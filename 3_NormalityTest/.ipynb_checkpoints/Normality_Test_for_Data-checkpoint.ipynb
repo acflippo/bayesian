{
 "cells": [
  {
   "cell_type": "markdown",
   "metadata": {
    "slideshow": {
     "slide_type": "slide"
    }
   },
   "source": [
    "# Normality Tests for Data"
   ]
  },
  {
   "cell_type": "code",
   "execution_count": 1,
   "metadata": {
    "slideshow": {
     "slide_type": "skip"
    }
   },
   "outputs": [],
   "source": [
    "import numpy as np\n",
    "import scipy.stats as sps\n",
    "import matplotlib.pyplot as plt\n",
    "import matplotlib.ticker as mtick\n",
    "import seaborn as sns\n",
    "import numpy\n",
    "import pymc\n",
    "import pandas as pd\n",
    "import scipy.stats as stats"
   ]
  },
  {
   "cell_type": "markdown",
   "metadata": {
    "slideshow": {
     "slide_type": "slide"
    }
   },
   "source": [
    "## Methods to test for Normality\n",
    "\n",
    "1. [Histogram](#histogram_1): Create a histogram of your data and compare it to the bell-shaped curve of a normal distribution\n",
    "\n",
    "2. [Mean and Median](#mean_median_1): We expect the mean to equal median for normally distributed data\n",
    "\n",
    "3. [QQ Plot](#qq_1): Quantile-Quantile (QQ) plot can help you visually compare your data's quantiles to those of a normal distribution. If your data points closely follow the diagonal line on the QQ plot, it suggests normal distribution.\n",
    "\n",
    "4. [Shapiro-Wilk Test](#shapiro_test): This is a formal statistical test that assesses whether a sample comes from a normal distribution. A low p-value from this test indicates that your data significantly deviates from a normal distribution.\n",
    "\n",
    "5. [Kolmogorov-Smirnov Test](#kolmogorov_test): Another statistical test that compares your data's distribution to a theoretical normal distribution. It computes a D statistic, and you can compare it to critical values to determine if your data is normal.\n",
    "\n",
    "6. [Anderson-Darling Test](#anderson_test): This test provides a measure of how well your data fits a normal distribution. It gives a critical value that can be compared to a calculated statistic from your data.\n",
    "\n",
    "7. [Jarque-Bera Test](#jarque_test): This test checks for skewness and kurtosis in your data, which are characteristics of a normal distribution. If your data has skewness and kurtosis close to zero, it's more likely to be normally distributed.\n",
    "\n",
    "8. [Kurtosis and Skewness](#skew_kurtosis_test): Calculate the skewness and kurtosis of your data. For a normal distribution, skewness should be close to zero, and kurtosis should be close to the normal distribution value of 3.\n",
    "\n",
    "Remember that no test is perfect, and the results might depend on your sample size. It's also important to consider the context and purpose of your analysis. If your data doesn't perfectly fit a normal distribution, it doesn't necessarily mean your analysis is invalid; you might need to choose appropriate statistical methods for non-normal data.\n",
    "\n",
    "Now, run the tests again with what you know is normally-distributed data now referred to as \"Normal Data\" to be brief.  Just to see the difference and for fun!\n",
    "\n",
    "9. [Histogram - Normal Data](#histogram_normal_test\")\n",
    "\n",
    "10. [QQ Plot - Normal Data](#qq_normal_test)\n",
    "\n",
    "11. [Shapiro-Wilk Test - Normal Data](#shapiro_normal_test)\n",
    "\n",
    "12. [Kolmogorov-Smirnov Test - Normal Data](#kolmogorov_normal_test)\n",
    "\n",
    "13. [Anderson-Darling Test - Normal Data](#anderson_normal_test)\n",
    "\n",
    "14. [Jarque-Bera Test](#jarque_normal_test)\n",
    "\n",
    "15. [Kurtosis and Skewness - Normal Data](#skewness_normal_test)\n",
    "\n",
    "16. [Conclusion](#conclusion)"
   ]
  },
  {
   "cell_type": "markdown",
   "metadata": {
    "slideshow": {
     "slide_type": "slide"
    }
   },
   "source": [
    "# Read data\n",
    "<a id=\"read_data\"></a>\n",
    "\n",
    "These are two generated data sets from normal distribution for:\n",
    "* mu = 15, std_dev = 15, keeping only positive numbers\n",
    "* mu = 13, std_dev = 17, keeping only positive numbers\n",
    "\n",
    "This is to simulate data that can be only positive such as work time duration for a particular process or auction prices for certain products, etc."
   ]
  },
  {
   "cell_type": "code",
   "execution_count": 2,
   "metadata": {
    "slideshow": {
     "slide_type": "subslide"
    }
   },
   "outputs": [
    {
     "data": {
      "text/html": [
       "<div>\n",
       "<style scoped>\n",
       "    .dataframe tbody tr th:only-of-type {\n",
       "        vertical-align: middle;\n",
       "    }\n",
       "\n",
       "    .dataframe tbody tr th {\n",
       "        vertical-align: top;\n",
       "    }\n",
       "\n",
       "    .dataframe thead th {\n",
       "        text-align: right;\n",
       "    }\n",
       "</style>\n",
       "<table border=\"1\" class=\"dataframe\">\n",
       "  <thead>\n",
       "    <tr style=\"text-align: right;\">\n",
       "      <th></th>\n",
       "      <th>session</th>\n",
       "      <th>rate</th>\n",
       "    </tr>\n",
       "  </thead>\n",
       "  <tbody>\n",
       "    <tr>\n",
       "      <th>0</th>\n",
       "      <td>0</td>\n",
       "      <td>12.465066</td>\n",
       "    </tr>\n",
       "    <tr>\n",
       "      <th>1</th>\n",
       "      <td>1</td>\n",
       "      <td>29.124034</td>\n",
       "    </tr>\n",
       "    <tr>\n",
       "      <th>2</th>\n",
       "      <td>2</td>\n",
       "      <td>12.418092</td>\n",
       "    </tr>\n",
       "    <tr>\n",
       "      <th>3</th>\n",
       "      <td>3</td>\n",
       "      <td>21.618755</td>\n",
       "    </tr>\n",
       "    <tr>\n",
       "      <th>4</th>\n",
       "      <td>4</td>\n",
       "      <td>10.789454</td>\n",
       "    </tr>\n",
       "  </tbody>\n",
       "</table>\n",
       "</div>"
      ],
      "text/plain": [
       "   session       rate\n",
       "0        0  12.465066\n",
       "1        1  29.124034\n",
       "2        2  12.418092\n",
       "3        3  21.618755\n",
       "4        4  10.789454"
      ]
     },
     "execution_count": 2,
     "metadata": {},
     "output_type": "execute_result"
    }
   ],
   "source": [
    "df1 = pd.read_csv('../data/half_normal_data_mu15_std15.csv')\n",
    "df1.head()"
   ]
  },
  {
   "cell_type": "code",
   "execution_count": 3,
   "metadata": {},
   "outputs": [],
   "source": [
    "my_data = df1['rate']"
   ]
  },
  {
   "cell_type": "code",
   "execution_count": 4,
   "metadata": {
    "slideshow": {
     "slide_type": "subslide"
    }
   },
   "outputs": [],
   "source": [
    "# df_test= pd.read_csv('../data/half_normal_data_mu13_std15.csv')\n",
    "# df_test.head()"
   ]
  },
  {
   "cell_type": "markdown",
   "metadata": {},
   "source": [
    "## 1. Historgram Visual Check\n",
    "<a id=\"histogram_1\"></a>\n",
    "\n",
    "It does not look normally distributed."
   ]
  },
  {
   "cell_type": "code",
   "execution_count": 5,
   "metadata": {},
   "outputs": [
    {
     "data": {
      "image/png": "[encoded data removed]",
      "text/plain": [
       "<Figure size 432x288 with 1 Axes>"
      ]
     },
     "metadata": {
      "needs_background": "light"
     },
     "output_type": "display_data"
    }
   ],
   "source": [
    "sns.histplot(data=my_data)\n",
    "plt.show()"
   ]
  },
  {
   "cell_type": "markdown",
   "metadata": {},
   "source": [
    "## 2. Mean and Median\n",
    "<a id=\"mean_median_1\"></a>\n",
    "\n",
    "If data is normally distributed, I would expect the mean to be the same as the median.  As you can see, this data the mean is pretty close to the median so we continue with normality tests."
   ]
  },
  {
   "cell_type": "code",
   "execution_count": 6,
   "metadata": {},
   "outputs": [
    {
     "name": "stdout",
     "output_type": "stream",
     "text": [
      "Mean : 18.909599   Median : 18.370997\n"
     ]
    }
   ],
   "source": [
    "print(\"Mean :%10.6f   Median :%10.6f\" % ( my_data.mean(), my_data.median()) )"
   ]
  },
  {
   "cell_type": "markdown",
   "metadata": {},
   "source": [
    "## 3. QQ Plot\n",
    "<a id=\"qq_1\"></a>\n",
    "\n",
    "A QQ plot that visually shows how your data's quantiles compare to those of a \n",
    "normal distribution. If your data points fall closely along the diagonal line, \n",
    "it suggests that your data is normally distributed. If they deviate significantly, \n",
    "it might indicate non-normality.\n",
    "\n",
    "The QQ plot below shows that a systematic deviation from the diagonal line at the lower and upper quantiles.  This suggests the data is not normally distributed."
   ]
  },
  {
   "cell_type": "code",
   "execution_count": 7,
   "metadata": {},
   "outputs": [
    {
     "data": {
      "image/png": "[encoded data removed]",
      "text/plain": [
       "<Figure size 432x288 with 1 Axes>"
      ]
     },
     "metadata": {
      "needs_background": "light"
     },
     "output_type": "display_data"
    }
   ],
   "source": [
    "stats.probplot(my_data, dist=\"norm\", plot=plt)\n",
    "\n",
    "plt.title(\"QQ Plot for Normality Test\")\n",
    "plt.xlabel(\"Theoretical Quantiles\")\n",
    "plt.ylabel(\"Sample Quantiles\")\n",
    "plt.show()"
   ]
  },
  {
   "cell_type": "markdown",
   "metadata": {},
   "source": [
    "# 4. Shapiro-Wilk Test\n",
    "<a id=\"shapiro_test\"></a>\n",
    "\n",
    "The Shapiro-Wilk test returns both the test statistic and the p-value. The null hypothesis (H0) is that the data is normally distributed. The code then compares the p-value to the chosen significance level (alpha, often set to 0.05) to determine whether to reject the null hypothesis.\n",
    "\n",
    "Remember that a p-value above the significance level suggests that your data is normally distributed, while a p-value below the significance level suggests that your data is not normally distributed.\n",
    "\n",
    "https://docs.scipy.org/doc/scipy/reference/generated/scipy.stats.shapiro.html"
   ]
  },
  {
   "cell_type": "code",
   "execution_count": 8,
   "metadata": {},
   "outputs": [
    {
     "name": "stdout",
     "output_type": "stream",
     "text": [
      "Shapiro-Wilk Test:\n",
      "   Test Statistic: 0.9648417234420776\n",
      "   P-value       : 0.0002828710130415857\n",
      "Result: Data does not look normally distributed (reject H0)\n"
     ]
    }
   ],
   "source": [
    "# Perform the Shapiro-Wilk test\n",
    "statistic, p_value = stats.shapiro(my_data)\n",
    "\n",
    "# Set significance level\n",
    "alpha = 0.05\n",
    "\n",
    "# Interpret the results\n",
    "print(\"Shapiro-Wilk Test:\")\n",
    "print(f\"   Test Statistic: {statistic}\")\n",
    "print(f\"   P-value       : {p_value}\")\n",
    "\n",
    "if p_value > alpha:\n",
    "    print(\"Result: Data looks normally distributed (fail to reject H0)\")\n",
    "else:\n",
    "    print(\"Result: Data does not look normally distributed (reject H0)\")"
   ]
  },
  {
   "cell_type": "code",
   "execution_count": null,
   "metadata": {},
   "outputs": [],
   "source": []
  },
  {
   "cell_type": "markdown",
   "metadata": {},
   "source": [
    "## 5. Kolmogorov-Smirnov Test\n",
    "<a id=\"kolmogorov_test\"></a>\n",
    "\n",
    "The Kolmogorov-Smirnov test and returns both the test statistic and the p-value. The null hypothesis (H0) is that the data is normally distributed. The code then compares the p-value to the chosen significance level (alpha, often set to 0.05) to determine whether to reject the null hypothesis.\n",
    "\n",
    "Similarly to other tests, a p-value above the significance level suggests that your data is normally distributed, while a p-value below the significance level suggests that your data is not normally distributed.\n",
    "\n",
    "https://docs.scipy.org/doc/scipy/reference/generated/scipy.special.kolmogorov.html"
   ]
  },
  {
   "cell_type": "code",
   "execution_count": 9,
   "metadata": {},
   "outputs": [
    {
     "name": "stdout",
     "output_type": "stream",
     "text": [
      "Kolmogorov-Smirnov Test:\n",
      "   Test Statistic : 0.9410591353963611\n",
      "   P-value        : 3.1727894451177887e-208\n",
      "Result: Data does not look normally distributed (reject H0)\n"
     ]
    }
   ],
   "source": [
    "# Perform the Kolmogorov-Smirnov test\n",
    "statistic, p_value = stats.kstest(my_data, 'norm')\n",
    "\n",
    "# Set significance level\n",
    "alpha = 0.05\n",
    "\n",
    "# Interpret the results\n",
    "print(\"Kolmogorov-Smirnov Test:\")\n",
    "print(f\"   Test Statistic : {statistic}\")\n",
    "print(f\"   P-value        : {p_value}\")\n",
    "\n",
    "if p_value > alpha:\n",
    "    print(\"Result: Data looks normally distributed (fail to reject H0)\")\n",
    "else:\n",
    "    print(\"Result: Data does not look normally distributed (reject H0)\")"
   ]
  },
  {
   "cell_type": "code",
   "execution_count": null,
   "metadata": {},
   "outputs": [],
   "source": []
  },
  {
   "cell_type": "markdown",
   "metadata": {},
   "source": [
    "## 6. Anderson-Darling Test\n",
    "<a id=\"Anderson_test\"></a>\n",
    "\n",
    "The Anderson-Darling test and returns the test statistic, critical values, and significance levels. The null hypothesis (H0) is that the data is normally distributed. The code then compares the test statistic to the critical values at different significance levels to determine whether to reject the null hypothesis.\n",
    "\n",
    "If the test statistic is lower than the critical value at a given significance level, you can conclude that your data is likely normally distributed at that level. If the test statistic is higher, your data is less likely to be normally distributed at that level.\n",
    "\n",
    "https://docs.scipy.org/doc/scipy/reference/generated/scipy.stats.anderson.html"
   ]
  },
  {
   "cell_type": "code",
   "execution_count": 10,
   "metadata": {},
   "outputs": [
    {
     "name": "stdout",
     "output_type": "stream",
     "text": [
      "Anderson-Darling Test:\n",
      "   Test Statistic      : 1.3167034807261189\n",
      "   Critical Values     : [0.563 0.641 0.769 0.898 1.068]\n",
      "   Significance Levels : [15.  10.   5.   2.5  1. ]\n",
      "Result at 1500.0% significance level: Data does not look normally distributed\n",
      "Result at 1000.0% significance level: Data does not look normally distributed\n",
      "Result at 500.0% significance level: Data does not look normally distributed\n",
      "Result at 250.0% significance level: Data does not look normally distributed\n",
      "Result at 100.0% significance level: Data does not look normally distributed\n"
     ]
    }
   ],
   "source": [
    "result = stats.anderson(my_data, dist='norm')\n",
    "\n",
    "# Interpret the results\n",
    "print(\"Anderson-Darling Test:\")\n",
    "print(f\"   Test Statistic      : {result.statistic}\")\n",
    "print(f\"   Critical Values     : {result.critical_values}\")\n",
    "print(f\"   Significance Levels : {result.significance_level}\")\n",
    "\n",
    "for i, level in enumerate(result.significance_level):\n",
    "    if result.statistic < result.critical_values[i]:\n",
    "        print(f\"Result at {level * 100}% significance level: Data looks normally distributed\")\n",
    "    else:\n",
    "        print(f\"Result at {level * 100}% significance level: Data does not look normally distributed\")"
   ]
  },
  {
   "cell_type": "code",
   "execution_count": null,
   "metadata": {},
   "outputs": [],
   "source": []
  },
  {
   "cell_type": "markdown",
   "metadata": {},
   "source": [
    "## 7. Jarque-Bera Test\n",
    "<a id=\"jarque_test\"></a>\n",
    "The Jarque-Bera test and returns the test statistic, p-value, skewness, and kurtosis. The null hypothesis (H0) is that the data is normally distributed. \n",
    "\n",
    "If the p-value is greater than the significance level, you can conclude that your data follows a normal distribution. If the p-value is lower, your data does not closely follow a normal distribution. \n",
    "\n",
    "https://docs.scipy.org/doc/scipy/reference/generated/scipy.stats.jarque_bera.html"
   ]
  },
  {
   "cell_type": "code",
   "execution_count": 11,
   "metadata": {},
   "outputs": [
    {
     "name": "stdout",
     "output_type": "stream",
     "text": [
      "Jarque-Bera Test:\n",
      "   Test Statistic: 0.9410591353963611\n",
      "   P-value       : 0.003345714741123329\n",
      "Result: Data does not look like it follows a normal distribution (reject H0)\n"
     ]
    }
   ],
   "source": [
    "# Perform the Jarque-Bera test\n",
    "statistics, p_value = stats.jarque_bera(my_data)\n",
    "\n",
    "# Set significance level\n",
    "alpha = 0.05\n",
    "\n",
    "# Interpret the results\n",
    "print(\"Jarque-Bera Test:\")\n",
    "print(f\"   Test Statistic: {statistic}\")\n",
    "print(f\"   P-value       : {p_value}\")\n",
    "\n",
    "if p_value > alpha:\n",
    "    print(\"Result: Data looks like it follows a normal distribution (fail to reject H0)\")\n",
    "else:\n",
    "    print(\"Result: Data does not look like it follows a normal distribution (reject H0)\")"
   ]
  },
  {
   "cell_type": "code",
   "execution_count": null,
   "metadata": {},
   "outputs": [],
   "source": []
  },
  {
   "cell_type": "markdown",
   "metadata": {},
   "source": [
    "## 8. Skew and Kurtosis Tests\n",
    "<a id=\"skew_kurtosis_test\"></a>\n",
    "Because the normal distribution has zero skewness and zero (“excess” or “Fisher”) kurtosis, the value \n",
    "of this statistic tends to be low for samples drawn from a normal distribution.\n",
    "\n",
    "Keep in mind that while skewness and kurtosis can provide insights, they are **not definitive** tests of normality. It's important to consider other methods, like the ones I mentioned earlier (Shapiro-Wilk, Kolmogorov-Smirnov, etc.), to thoroughly assess the normality of your data."
   ]
  },
  {
   "cell_type": "code",
   "execution_count": 12,
   "metadata": {},
   "outputs": [
    {
     "name": "stdout",
     "output_type": "stream",
     "text": [
      "Skewness: 0.6311108993485351\n",
      "Kurtosis: 0.1604753099243883\n",
      "Skewness suggests right-skewed distribution\n",
      "Kurtosis suggests platykurtic distribution (less peaky)\n"
     ]
    }
   ],
   "source": [
    "# Calculate skewness and kurtosis\n",
    "skewness = stats.skew(my_data)\n",
    "kurtosis = stats.kurtosis(my_data)\n",
    "\n",
    "# Interpret the results\n",
    "print(\"Skewness:\", skewness)\n",
    "print(\"Kurtosis:\", kurtosis)\n",
    "\n",
    "# Interpretation of skewness and kurtosis values\n",
    "if abs(skewness) < 0.5:\n",
    "    print(\"Skewness suggests approximately symmetric distribution\")\n",
    "elif skewness < 0:\n",
    "    print(\"Skewness suggests left-skewed distribution\")\n",
    "else:\n",
    "    print(\"Skewness suggests right-skewed distribution\")\n",
    "\n",
    "if abs(kurtosis - 3) < 0.5:\n",
    "    print(\"Kurtosis suggests approximately normal distribution\")\n",
    "elif kurtosis < 3:\n",
    "    print(\"Kurtosis suggests platykurtic distribution (less peaky)\")\n",
    "else:\n",
    "    print(\"Kurtosis suggests leptokurtic distribution (more peaky)\")"
   ]
  },
  {
   "cell_type": "markdown",
   "metadata": {},
   "source": [
    "# Normally Distributed Data\n",
    "<a id=\"normal_data\"></a>\n",
    "Let's create normally distributed data and run throught the battery of tests again to compare results."
   ]
  },
  {
   "cell_type": "code",
   "execution_count": 13,
   "metadata": {},
   "outputs": [
    {
     "data": {
      "text/plain": [
       "169"
      ]
     },
     "execution_count": 13,
     "metadata": {},
     "output_type": "execute_result"
    }
   ],
   "source": [
    "len(my_data)"
   ]
  },
  {
   "cell_type": "code",
   "execution_count": 14,
   "metadata": {},
   "outputs": [],
   "source": [
    "# Generate the same number of normally distributed data as my test data used earlier\n",
    "\n",
    "np.random.seed(seed=42)\n",
    "normal_data = pd.Series(np.random.normal(loc=15, scale=15, size=len(my_data)))"
   ]
  },
  {
   "cell_type": "code",
   "execution_count": 15,
   "metadata": {},
   "outputs": [
    {
     "data": {
      "text/plain": [
       "0    22.450712\n",
       "1    12.926035\n",
       "2    24.715328\n",
       "3    37.845448\n",
       "4    11.487699\n",
       "dtype: float64"
      ]
     },
     "execution_count": 15,
     "metadata": {},
     "output_type": "execute_result"
    }
   ],
   "source": [
    "normal_data[0:5]"
   ]
  },
  {
   "cell_type": "markdown",
   "metadata": {},
   "source": [
    "## 9. Histogram - Normal Data\n",
    "<a id=\"histogram_normal_test\"></a>"
   ]
  },
  {
   "cell_type": "code",
   "execution_count": 16,
   "metadata": {},
   "outputs": [
    {
     "data": {
      "image/png": "[encoded data removed]",
      "text/plain": [
       "<Figure size 432x288 with 1 Axes>"
      ]
     },
     "metadata": {
      "needs_background": "light"
     },
     "output_type": "display_data"
    }
   ],
   "source": [
    "sns.histplot(data=normal_data)\n",
    "plt.show()"
   ]
  },
  {
   "cell_type": "code",
   "execution_count": null,
   "metadata": {},
   "outputs": [],
   "source": []
  },
  {
   "cell_type": "markdown",
   "metadata": {},
   "source": [
    "## Mean and Median - Normal Data\n",
    "<a id=\"mean_median_normal_test\"></a>"
   ]
  },
  {
   "cell_type": "code",
   "execution_count": 17,
   "metadata": {},
   "outputs": [
    {
     "name": "stdout",
     "output_type": "stream",
     "text": [
      "Mean : 14.394999   Median : 14.797542\n"
     ]
    }
   ],
   "source": [
    "print(\"Mean :%10.6f   Median :%10.6f\" % ( normal_data.mean(), normal_data.median()))"
   ]
  },
  {
   "cell_type": "code",
   "execution_count": null,
   "metadata": {},
   "outputs": [],
   "source": []
  },
  {
   "cell_type": "markdown",
   "metadata": {},
   "source": [
    "## 10. QQ Plot - Normal Data\n",
    "<a id=\"qq_normal_test\"></a>"
   ]
  },
  {
   "cell_type": "code",
   "execution_count": 18,
   "metadata": {},
   "outputs": [
    {
     "data": {
      "image/png": "[encoded data removed]",
      "text/plain": [
       "<Figure size 432x288 with 1 Axes>"
      ]
     },
     "metadata": {
      "needs_background": "light"
     },
     "output_type": "display_data"
    }
   ],
   "source": [
    "stats.probplot(normal_data, dist=\"norm\", plot=plt)\n",
    "\n",
    "plt.title(\"QQ Plot for Normality Test\")\n",
    "plt.xlabel(\"Theoretical Quantiles\")\n",
    "plt.ylabel(\"Sample Quantiles\")\n",
    "plt.show()"
   ]
  },
  {
   "cell_type": "code",
   "execution_count": null,
   "metadata": {},
   "outputs": [],
   "source": []
  },
  {
   "cell_type": "markdown",
   "metadata": {},
   "source": [
    "## 11. Shapiro-Wilk Test - Normal Data\n",
    "<a id=\"shapiro_normal_test\"></a>"
   ]
  },
  {
   "cell_type": "code",
   "execution_count": 19,
   "metadata": {},
   "outputs": [
    {
     "name": "stdout",
     "output_type": "stream",
     "text": [
      "Shapiro-Wilk Test:\n",
      "   Test Statistic: 0.9961347579956055\n",
      "   P-value       : 0.9439550042152405\n",
      "Result: Data looks normally distributed (fail to reject H0)\n"
     ]
    }
   ],
   "source": [
    "# Perform the Shapiro-Wilk test\n",
    "statistic, p_value = stats.shapiro(normal_data)\n",
    "\n",
    "# Set significance level\n",
    "alpha = 0.05\n",
    "\n",
    "# Interpret the results\n",
    "print(\"Shapiro-Wilk Test:\")\n",
    "print(f\"   Test Statistic: {statistic}\")\n",
    "print(f\"   P-value       : {p_value}\")\n",
    "\n",
    "if p_value > alpha:\n",
    "    print(\"Result: Data looks normally distributed (fail to reject H0)\")\n",
    "else:\n",
    "    print(\"Result: Data does not look normally distributed (reject H0)\")"
   ]
  },
  {
   "cell_type": "code",
   "execution_count": null,
   "metadata": {},
   "outputs": [],
   "source": []
  },
  {
   "cell_type": "markdown",
   "metadata": {},
   "source": [
    "## 12. Kolmogorov-Smirnov Test - Normal Data\n",
    "<a id=\"kolmogorov_normal_test\"></a>"
   ]
  },
  {
   "cell_type": "code",
   "execution_count": 20,
   "metadata": {},
   "outputs": [
    {
     "name": "stdout",
     "output_type": "stream",
     "text": [
      "Kolmogorov-Smirnov Test:\n",
      "   Test Statistic : 0.7967953663897764\n",
      "   P-value        : 1.1387358122747536e-115\n",
      "Result: Data does not look normally distributed (reject H0)\n"
     ]
    }
   ],
   "source": [
    "# Perform the Kolmogorov-Smirnov test\n",
    "statistic, p_value = stats.kstest(normal_data, 'norm')\n",
    "\n",
    "# Set significance level\n",
    "alpha = 0.05\n",
    "\n",
    "# Interpret the results\n",
    "print(\"Kolmogorov-Smirnov Test:\")\n",
    "print(f\"   Test Statistic : {statistic}\")\n",
    "print(f\"   P-value        : {p_value}\")\n",
    "\n",
    "if p_value > alpha:\n",
    "    print(\"Result: Data looks normally distributed (fail to reject H0)\")\n",
    "else:\n",
    "    print(\"Result: Data does not look normally distributed (reject H0)\")"
   ]
  },
  {
   "cell_type": "markdown",
   "metadata": {},
   "source": [
    "## 13. Anderson-Darling Test - Normal Data\n",
    "<a id=\"anderson_normal_test\"></a>"
   ]
  },
  {
   "cell_type": "code",
   "execution_count": 21,
   "metadata": {},
   "outputs": [
    {
     "name": "stdout",
     "output_type": "stream",
     "text": [
      "Anderson-Darling Test:\n",
      "   Test Statistic      : 0.20110959913478155\n",
      "   Critical Values     : [0.563 0.641 0.769 0.898 1.068]\n",
      "   Significance Levels : [15.  10.   5.   2.5  1. ]\n",
      "Result at 1500.0% significance level: Data looks normally distributed\n",
      "Result at 1000.0% significance level: Data looks normally distributed\n",
      "Result at 500.0% significance level: Data looks normally distributed\n",
      "Result at 250.0% significance level: Data looks normally distributed\n",
      "Result at 100.0% significance level: Data looks normally distributed\n"
     ]
    }
   ],
   "source": [
    "result = stats.anderson(normal_data, dist='norm')\n",
    "\n",
    "# Interpret the results\n",
    "print(\"Anderson-Darling Test:\")\n",
    "print(f\"   Test Statistic      : {result.statistic}\")\n",
    "print(f\"   Critical Values     : {result.critical_values}\")\n",
    "print(f\"   Significance Levels : {result.significance_level}\")\n",
    "\n",
    "for i, level in enumerate(result.significance_level):\n",
    "    if result.statistic < result.critical_values[i]:\n",
    "        print(f\"Result at {level * 100}% significance level: Data looks normally distributed\")\n",
    "    else:\n",
    "        print(f\"Result at {level * 100}% significance level: Data does not look normally distributed\")"
   ]
  },
  {
   "cell_type": "code",
   "execution_count": null,
   "metadata": {},
   "outputs": [],
   "source": []
  },
  {
   "cell_type": "markdown",
   "metadata": {},
   "source": [
    "## 14. Jarque-Bera Test - Normal Data\n",
    "<a id=\"jarque_normal_test\"></a>"
   ]
  },
  {
   "cell_type": "code",
   "execution_count": 22,
   "metadata": {},
   "outputs": [
    {
     "name": "stdout",
     "output_type": "stream",
     "text": [
      "Jarque-Bera Test:\n",
      "   Test Statistic: 0.7967953663897764\n",
      "   P-value       : 0.8690692458603269\n",
      "Result: Data looks like it follows a normal distribution (fail to reject H0)\n"
     ]
    }
   ],
   "source": [
    "# Perform the Jarque-Bera test\n",
    "statistics, p_value = stats.jarque_bera(normal_data)\n",
    "\n",
    "# Set significance level\n",
    "alpha = 0.05\n",
    "\n",
    "# # Interpret the results\n",
    "print(\"Jarque-Bera Test:\")\n",
    "print(f\"   Test Statistic: {statistic}\")\n",
    "print(f\"   P-value       : {p_value}\")\n",
    "\n",
    "\n",
    "if p_value > alpha:\n",
    "    print(\"Result: Data looks like it follows a normal distribution (fail to reject H0)\")\n",
    "else:\n",
    "    print(\"Result: Data does not look like it follows a normal distribution (reject H0)\")"
   ]
  },
  {
   "cell_type": "code",
   "execution_count": null,
   "metadata": {},
   "outputs": [],
   "source": []
  },
  {
   "cell_type": "markdown",
   "metadata": {},
   "source": [
    "## 15. Skewness and Kurtosis - Normal Data\n",
    "<a id=\"skewness_normal_test\"></a>"
   ]
  },
  {
   "cell_type": "code",
   "execution_count": 23,
   "metadata": {},
   "outputs": [
    {
     "name": "stdout",
     "output_type": "stream",
     "text": [
      "Skewness: 0.033162769216059165\n",
      "Kurtosis: -0.18830471735921073\n",
      "Skewness suggests approximately symmetric distribution\n",
      "Kurtosis suggests platykurtic distribution (less peaky)\n"
     ]
    }
   ],
   "source": [
    "# Calculate skewness and kurtosis\n",
    "skewness = stats.skew(normal_data)\n",
    "kurtosis = stats.kurtosis(normal_data)\n",
    "\n",
    "# Interpret the results\n",
    "print(\"Skewness:\", skewness)\n",
    "print(\"Kurtosis:\", kurtosis)\n",
    "\n",
    "# Interpretation of skewness and kurtosis values\n",
    "if abs(skewness) < 0.5:\n",
    "    print(\"Skewness suggests approximately symmetric distribution\")\n",
    "elif skewness < 0:\n",
    "    print(\"Skewness suggests left-skewed distribution\")\n",
    "else:\n",
    "    print(\"Skewness suggests right-skewed distribution\")\n",
    "\n",
    "if abs(kurtosis - 3) < 0.5:\n",
    "    print(\"Kurtosis suggests approximately normal distribution\")\n",
    "elif kurtosis < 3:\n",
    "    print(\"Kurtosis suggests platykurtic distribution (less peaky)\")\n",
    "else:\n",
    "    print(\"Kurtosis suggests leptokurtic distribution (more peaky)\")"
   ]
  },
  {
   "cell_type": "code",
   "execution_count": null,
   "metadata": {},
   "outputs": [],
   "source": []
  },
  {
   "cell_type": "markdown",
   "metadata": {},
   "source": [
    "# Conclusion\n",
    "<a id=\"conclusion\"></a>\n",
    "\n",
    "For non-normally distributed data, it seems most of the tests above are pretty good at rejecting \n",
    "that the data is normally distributed.  \n",
    "\n",
    "An interesting find is that some of the tests such as the Kolmogorov-Smirnov Test rejected the normally distributed generated data's null hypothesis (H0: data is normally distributed) which was indeed normally distributed.  Each test \n",
    "can have its own limitation so it's good to look at all the tests on an aggregate level to determine if your data is normally distributed.\n",
    "\n",
    "What if your data is not normally distributed?  Then, you will need to perform non-parametric tests such as Bayesian statistics.  "
   ]
  }
 ],
 "metadata": {
  "celltoolbar": "Slideshow",
  "kernelspec": {
   "display_name": "bayes",
   "language": "python",
   "name": "bayes"
  },
  "language_info": {
   "codemirror_mode": {
    "name": "ipython",
    "version": 3
   },
   "file_extension": ".py",
   "mimetype": "text/x-python",
   "name": "python",
   "nbconvert_exporter": "python",
   "pygments_lexer": "ipython3",
   "version": "3.10.4"
  }
 },
 "nbformat": 4,
 "nbformat_minor": 4
}
