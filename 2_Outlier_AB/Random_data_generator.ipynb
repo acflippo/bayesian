{
 "cells": [
  {
   "cell_type": "code",
   "execution_count": 5,
   "id": "ea65c4a8-3dc1-44cd-944e-e1d11062ee73",
   "metadata": {
    "tags": []
   },
   "outputs": [],
   "source": [
    "import random\n",
    "import numpy as np\n",
    "import pandas as pd\n",
    "import scipy.stats as sps\n",
    "import seaborn as sns\n",
    "import matplotlib.pyplot as plt\n",
    "import matplotlib.ticker as mtick\n",
    "\n",
    "# from sklearn.utils import shuffle"
   ]
  },
  {
   "cell_type": "code",
   "execution_count": 2,
   "id": "75f60007-83ff-4e13-9ec1-8d38a123a5b2",
   "metadata": {
    "tags": []
   },
   "outputs": [],
   "source": [
    "series_1 = []\n",
    "\n",
    "for i in range(100):\n",
    "    # between 0 and 20\n",
    "    num1 = random.randint(0, 2000) / 100\n",
    "    series_1.append((num1, 1))\n",
    "    \n",
    "for i in range(75):\n",
    "    # between 20 and 30\n",
    "    num1 = random.randint(2000, 3000) / 100\n",
    "    series_1.append((num1, 1))    \n",
    "\n",
    "for i in range(50):\n",
    "    # between 30 and 50\n",
    "    num1 = random.randint(3000, 5000) / 100\n",
    "    series_1.append((num1, 1))\n",
    "\n",
    "for i in range(30):\n",
    "    # between 50 and 75\n",
    "    num1 = random.randint(5000, 7500) / 100\n",
    "    series_1.append((num1, 1))\n",
    "    \n",
    "for i in range(20):\n",
    "    # between 75 and 100\n",
    "    num1 = random.randint(7500, 10000) / 100\n",
    "    series_1.append((num1, 1))\n",
    "    \n",
    "for i in range(100):\n",
    "    series_1.append((0.0, 0))"
   ]
  },
  {
   "cell_type": "code",
   "execution_count": 3,
   "id": "825fb587-0134-4084-b81b-6647fc9404ca",
   "metadata": {
    "tags": []
   },
   "outputs": [
    {
     "ename": "NameError",
     "evalue": "name 'shuffle' is not defined",
     "output_type": "error",
     "traceback": [
      "\u001b[0;31m---------------------------------------------------------------------------\u001b[0m",
      "\u001b[0;31mNameError\u001b[0m                                 Traceback (most recent call last)",
      "Input \u001b[0;32mIn [3]\u001b[0m, in \u001b[0;36m<cell line: 1>\u001b[0;34m()\u001b[0m\n\u001b[0;32m----> 1\u001b[0m series_a \u001b[38;5;241m=\u001b[39m \u001b[43mshuffle\u001b[49m(series_1, random_state\u001b[38;5;241m=\u001b[39m\u001b[38;5;241m1234\u001b[39m)\n",
      "\u001b[0;31mNameError\u001b[0m: name 'shuffle' is not defined"
     ]
    }
   ],
   "source": [
    "series_a = shuffle(series_1, random_state=1234)"
   ]
  },
  {
   "cell_type": "code",
   "execution_count": null,
   "id": "1d1def9c-ecf1-4b18-b297-35a131e367e1",
   "metadata": {
    "tags": []
   },
   "outputs": [],
   "source": [
    "series_1[0:10]"
   ]
  },
  {
   "cell_type": "code",
   "execution_count": null,
   "id": "d8085644-a4d7-4574-b10e-9cf41278d395",
   "metadata": {
    "tags": []
   },
   "outputs": [],
   "source": [
    "series_a[0:10]"
   ]
  },
  {
   "cell_type": "code",
   "execution_count": null,
   "id": "d3d1fecf-efe9-40ad-b75f-7f7a25b6bc51",
   "metadata": {
    "tags": []
   },
   "outputs": [],
   "source": [
    "series_2 = []  \n",
    "    \n",
    "for i in range(109):\n",
    "    # between 0 and 20\n",
    "    num1 = random.randint(0, 2000) / 100\n",
    "    series_2.append((num1, 1))\n",
    "    \n",
    "for i in range(79):\n",
    "    # between 20.00 and 30\n",
    "    num1 = random.randint(2000, 3000) / 100\n",
    "    series_2.append((num1, 1))    \n",
    "\n",
    "for i in range(55):\n",
    "    # between 30 and 50\n",
    "    num1 = random.randint(3000, 5000) / 100\n",
    "    series_2.append((num1, 1))\n",
    "\n",
    "for i in range(35):\n",
    "    # between 50 and 75\n",
    "    num1 = random.randint(5000, 7500) / 100\n",
    "    series_2.append((num1, 1))\n",
    "    \n",
    "for i in range(25):\n",
    "    # between 75 and 100\n",
    "    num1 = random.randint(7500, 10000) / 100\n",
    "    series_2.append((num1, 1))\n",
    "    \n",
    "for i in range(90):\n",
    "    series_2.append((0.0, 0))    "
   ]
  },
  {
   "cell_type": "code",
   "execution_count": null,
   "id": "79a9cde7-9db4-4e46-bbc7-350476642464",
   "metadata": {
    "tags": []
   },
   "outputs": [],
   "source": [
    "series_b = shuffle(series_2, random_state=4567)"
   ]
  },
  {
   "cell_type": "code",
   "execution_count": null,
   "id": "45a94608-f577-47ba-93e0-216ad576bc82",
   "metadata": {
    "tags": []
   },
   "outputs": [],
   "source": [
    "series_2[0:10]"
   ]
  },
  {
   "cell_type": "code",
   "execution_count": null,
   "id": "0078f51a-d311-4760-aaec-f4799ff16c36",
   "metadata": {
    "tags": []
   },
   "outputs": [],
   "source": [
    "series_b[0:10]"
   ]
  },
  {
   "cell_type": "code",
   "execution_count": null,
   "id": "5ba94441-9a4f-4905-89df-a295f6ee8848",
   "metadata": {
    "tags": []
   },
   "outputs": [],
   "source": [
    "type(series_b)"
   ]
  },
  {
   "cell_type": "code",
   "execution_count": null,
   "id": "ee91cadb-51b8-436c-8f03-6965b39f020c",
   "metadata": {
    "tags": []
   },
   "outputs": [],
   "source": [
    "df_a = pd.DataFrame(series_a, columns=['revenue','converted'])"
   ]
  },
  {
   "cell_type": "code",
   "execution_count": null,
   "id": "982a7ed0-145b-4dcf-b58b-34b5dc4e11ba",
   "metadata": {
    "tags": []
   },
   "outputs": [],
   "source": [
    "df_a"
   ]
  },
  {
   "cell_type": "code",
   "execution_count": null,
   "id": "85eacfcc-ca53-449f-8a05-e85cca73d4dd",
   "metadata": {
    "tags": []
   },
   "outputs": [],
   "source": [
    "df_b = pd.DataFrame(series_b, columns=['revenue','converted'])"
   ]
  },
  {
   "cell_type": "code",
   "execution_count": null,
   "id": "b41c4ec7-298c-4367-9515-14a86a75659c",
   "metadata": {
    "tags": []
   },
   "outputs": [],
   "source": [
    "df_b"
   ]
  },
  {
   "cell_type": "code",
   "execution_count": null,
   "id": "eb51532d-c182-41df-b7c6-ac68ae3de560",
   "metadata": {
    "tags": []
   },
   "outputs": [],
   "source": [
    "print(\"mean a:\", df_a['revenue'].mean(), \"std  a:\", df_a['revenue'].std())\n",
    "print(\"mean b:\",df_b['revenue'].mean(),  \"std  b:\",df_b['revenue'].std())"
   ]
  },
  {
   "cell_type": "code",
   "execution_count": null,
   "id": "c77c0188-ba2a-4573-b00e-64c35c3ac804",
   "metadata": {
    "tags": []
   },
   "outputs": [],
   "source": [
    "# assume the variance of the 2 datasets are equal\n",
    "print(sps.ttest_ind(a=series_a, b=series_b, equal_var=True, alternative=\"two-sided\"))\n",
    "\n",
    "# assume the variance of the 2 datasets are NOT equal\n",
    "print(sps.ttest_ind(a=series_a, b=series_b, equal_var=False, alternative=\"less\"))"
   ]
  },
  {
   "cell_type": "code",
   "execution_count": null,
   "id": "480eafd0-70ee-4e86-b329-eaa07acc1e03",
   "metadata": {
    "tags": []
   },
   "outputs": [],
   "source": [
    "df_a.hist(bins=20)"
   ]
  },
  {
   "cell_type": "code",
   "execution_count": null,
   "id": "b8942ec4-db24-438f-bc56-7fc91d1c8b72",
   "metadata": {
    "tags": []
   },
   "outputs": [],
   "source": [
    "df_b.hist(bins=20)"
   ]
  },
  {
   "cell_type": "code",
   "execution_count": null,
   "id": "197118e0-2491-432c-b91d-58efbd8551d6",
   "metadata": {
    "tags": []
   },
   "outputs": [],
   "source": [
    "df_a.to_csv('generated_data_a.csv')"
   ]
  },
  {
   "cell_type": "code",
   "execution_count": null,
   "id": "bc5aac47-9357-46e3-aa22-b03677f23588",
   "metadata": {
    "tags": []
   },
   "outputs": [],
   "source": [
    "df_b.to_csv('generated_data_b.csv')"
   ]
  },
  {
   "cell_type": "code",
   "execution_count": 6,
   "id": "b8cdb904-dfbb-482d-ae88-691b2092e69f",
   "metadata": {},
   "outputs": [],
   "source": [
    "normal_data = np.random.normal(15, 15, 200)"
   ]
  },
  {
   "cell_type": "code",
   "execution_count": 7,
   "id": "8b210bc3-f59d-4aea-9f9f-6809a195cb8f",
   "metadata": {},
   "outputs": [],
   "source": [
    "normal_data = normal_data[normal_data > 0]"
   ]
  },
  {
   "cell_type": "code",
   "execution_count": 18,
   "id": "c79a243e-2943-47eb-8209-99ebe816e3f2",
   "metadata": {},
   "outputs": [
    {
     "name": "stdout",
     "output_type": "stream",
     "text": [
      "len:  169 mean : 18.909599497452753 std dev:  11.807586590059088\n"
     ]
    }
   ],
   "source": [
    "print(\"len: \", len(normal_data), \"mean :\", normal_data.mean(), \"std dev: \", normal_data.std())"
   ]
  },
  {
   "cell_type": "code",
   "execution_count": 11,
   "id": "d0542f01-34b2-4792-bd74-c71d53c4321f",
   "metadata": {},
   "outputs": [
    {
     "data": {
      "text/html": [
       "<div>\n",
       "<style scoped>\n",
       "    .dataframe tbody tr th:only-of-type {\n",
       "        vertical-align: middle;\n",
       "    }\n",
       "\n",
       "    .dataframe tbody tr th {\n",
       "        vertical-align: top;\n",
       "    }\n",
       "\n",
       "    .dataframe thead th {\n",
       "        text-align: right;\n",
       "    }\n",
       "</style>\n",
       "<table border=\"1\" class=\"dataframe\">\n",
       "  <thead>\n",
       "    <tr style=\"text-align: right;\">\n",
       "      <th></th>\n",
       "      <th>rate</th>\n",
       "    </tr>\n",
       "  </thead>\n",
       "  <tbody>\n",
       "    <tr>\n",
       "      <th>0</th>\n",
       "      <td>12.465066</td>\n",
       "    </tr>\n",
       "    <tr>\n",
       "      <th>1</th>\n",
       "      <td>29.124034</td>\n",
       "    </tr>\n",
       "    <tr>\n",
       "      <th>2</th>\n",
       "      <td>12.418092</td>\n",
       "    </tr>\n",
       "    <tr>\n",
       "      <th>3</th>\n",
       "      <td>21.618755</td>\n",
       "    </tr>\n",
       "    <tr>\n",
       "      <th>4</th>\n",
       "      <td>10.789454</td>\n",
       "    </tr>\n",
       "    <tr>\n",
       "      <th>...</th>\n",
       "      <td>...</td>\n",
       "    </tr>\n",
       "    <tr>\n",
       "      <th>164</th>\n",
       "      <td>6.197850</td>\n",
       "    </tr>\n",
       "    <tr>\n",
       "      <th>165</th>\n",
       "      <td>24.492959</td>\n",
       "    </tr>\n",
       "    <tr>\n",
       "      <th>166</th>\n",
       "      <td>34.813961</td>\n",
       "    </tr>\n",
       "    <tr>\n",
       "      <th>167</th>\n",
       "      <td>12.499266</td>\n",
       "    </tr>\n",
       "    <tr>\n",
       "      <th>168</th>\n",
       "      <td>21.463880</td>\n",
       "    </tr>\n",
       "  </tbody>\n",
       "</table>\n",
       "<p>169 rows × 1 columns</p>\n",
       "</div>"
      ],
      "text/plain": [
       "          rate\n",
       "0    12.465066\n",
       "1    29.124034\n",
       "2    12.418092\n",
       "3    21.618755\n",
       "4    10.789454\n",
       "..         ...\n",
       "164   6.197850\n",
       "165  24.492959\n",
       "166  34.813961\n",
       "167  12.499266\n",
       "168  21.463880\n",
       "\n",
       "[169 rows x 1 columns]"
      ]
     },
     "execution_count": 11,
     "metadata": {},
     "output_type": "execute_result"
    }
   ],
   "source": [
    "df1 = pd.DataFrame(normal_data)\n",
    "df1.columns = ['rate']\n",
    "df1"
   ]
  },
  {
   "cell_type": "code",
   "execution_count": 23,
   "id": "00263401-2eb7-45f8-b872-03e181e49dec",
   "metadata": {},
   "outputs": [],
   "source": [
    "df1.to_csv('half_normal_data_mu15_std15.csv')"
   ]
  },
  {
   "cell_type": "code",
   "execution_count": 20,
   "id": "86d4895a-a7cd-439c-afcb-ff096b97c3ac",
   "metadata": {},
   "outputs": [],
   "source": [
    "normal_data2 = np.random.normal(13, 15, 200)"
   ]
  },
  {
   "cell_type": "code",
   "execution_count": 21,
   "id": "6de2c3e6-ffcf-486b-8c58-62b87df47de6",
   "metadata": {},
   "outputs": [],
   "source": [
    "normal_data2 = normal_data2[normal_data2 > 0]"
   ]
  },
  {
   "cell_type": "code",
   "execution_count": 22,
   "id": "99700e6b-0cc5-48e4-b2b8-eae5066e4a6c",
   "metadata": {},
   "outputs": [
    {
     "name": "stdout",
     "output_type": "stream",
     "text": [
      "len:  160 mean : 16.414283300338866 std dev:  11.345452862302965\n"
     ]
    }
   ],
   "source": [
    "print(\"len: \", len(normal_data2), \"mean :\", normal_data2.mean(), \"std dev: \", normal_data2.std())"
   ]
  },
  {
   "cell_type": "code",
   "execution_count": 19,
   "id": "07018ed1-a9c8-40ee-bfa5-e47714a3e189",
   "metadata": {},
   "outputs": [
    {
     "name": "stdout",
     "output_type": "stream",
     "text": [
      "len:  169 mean : 18.909599497452753 std dev:  11.807586590059088\n"
     ]
    }
   ],
   "source": [
    "print(\"len: \", len(normal_data), \"mean :\", normal_data.mean(), \"std dev: \", normal_data.std())"
   ]
  },
  {
   "cell_type": "code",
   "execution_count": 24,
   "id": "2dca22c5-85f4-4dad-a376-93a3534530ee",
   "metadata": {},
   "outputs": [
    {
     "data": {
      "text/html": [
       "<div>\n",
       "<style scoped>\n",
       "    .dataframe tbody tr th:only-of-type {\n",
       "        vertical-align: middle;\n",
       "    }\n",
       "\n",
       "    .dataframe tbody tr th {\n",
       "        vertical-align: top;\n",
       "    }\n",
       "\n",
       "    .dataframe thead th {\n",
       "        text-align: right;\n",
       "    }\n",
       "</style>\n",
       "<table border=\"1\" class=\"dataframe\">\n",
       "  <thead>\n",
       "    <tr style=\"text-align: right;\">\n",
       "      <th></th>\n",
       "      <th>rate</th>\n",
       "    </tr>\n",
       "  </thead>\n",
       "  <tbody>\n",
       "    <tr>\n",
       "      <th>0</th>\n",
       "      <td>1.636872</td>\n",
       "    </tr>\n",
       "    <tr>\n",
       "      <th>1</th>\n",
       "      <td>24.860388</td>\n",
       "    </tr>\n",
       "    <tr>\n",
       "      <th>2</th>\n",
       "      <td>12.369456</td>\n",
       "    </tr>\n",
       "    <tr>\n",
       "      <th>3</th>\n",
       "      <td>29.880620</td>\n",
       "    </tr>\n",
       "    <tr>\n",
       "      <th>4</th>\n",
       "      <td>14.867301</td>\n",
       "    </tr>\n",
       "    <tr>\n",
       "      <th>...</th>\n",
       "      <td>...</td>\n",
       "    </tr>\n",
       "    <tr>\n",
       "      <th>155</th>\n",
       "      <td>29.233537</td>\n",
       "    </tr>\n",
       "    <tr>\n",
       "      <th>156</th>\n",
       "      <td>7.299605</td>\n",
       "    </tr>\n",
       "    <tr>\n",
       "      <th>157</th>\n",
       "      <td>41.128513</td>\n",
       "    </tr>\n",
       "    <tr>\n",
       "      <th>158</th>\n",
       "      <td>16.995962</td>\n",
       "    </tr>\n",
       "    <tr>\n",
       "      <th>159</th>\n",
       "      <td>19.241780</td>\n",
       "    </tr>\n",
       "  </tbody>\n",
       "</table>\n",
       "<p>160 rows × 1 columns</p>\n",
       "</div>"
      ],
      "text/plain": [
       "          rate\n",
       "0     1.636872\n",
       "1    24.860388\n",
       "2    12.369456\n",
       "3    29.880620\n",
       "4    14.867301\n",
       "..         ...\n",
       "155  29.233537\n",
       "156   7.299605\n",
       "157  41.128513\n",
       "158  16.995962\n",
       "159  19.241780\n",
       "\n",
       "[160 rows x 1 columns]"
      ]
     },
     "execution_count": 24,
     "metadata": {},
     "output_type": "execute_result"
    }
   ],
   "source": [
    "df2 = pd.DataFrame(normal_data2)\n",
    "df2.columns = ['rate']\n",
    "df2"
   ]
  },
  {
   "cell_type": "code",
   "execution_count": 26,
   "id": "f0efe213-5a62-456a-8cec-ffb7fbff6dfa",
   "metadata": {},
   "outputs": [],
   "source": [
    "df2.to_csv('half_normal_data_mu13_std15.csv')"
   ]
  }
 ],
 "metadata": {
  "kernelspec": {
   "display_name": "Python 3 (ipykernel)",
   "language": "python",
   "name": "python3"
  },
  "language_info": {
   "codemirror_mode": {
    "name": "ipython",
    "version": 3
   },
   "file_extension": ".py",
   "mimetype": "text/x-python",
   "name": "python",
   "nbconvert_exporter": "python",
   "pygments_lexer": "ipython3",
   "version": "3.10.4"
  }
 },
 "nbformat": 4,
 "nbformat_minor": 5
}
