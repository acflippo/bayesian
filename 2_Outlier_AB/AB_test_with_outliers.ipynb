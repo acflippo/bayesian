{
 "cells": [
  {
   "cell_type": "markdown",
   "metadata": {
    "slideshow": {
     "slide_type": "slide"
    }
   },
   "source": [
    "# Continuous Data A/B Test using Bayesian Statistics"
   ]
  },
  {
   "cell_type": "code",
   "execution_count": 1,
   "metadata": {
    "slideshow": {
     "slide_type": "skip"
    }
   },
   "outputs": [],
   "source": [
    "import numpy as np\n",
    "import scipy.stats as sps\n",
    "import matplotlib.pyplot as plt\n",
    "import matplotlib.ticker as mtick\n",
    "\n",
    "import pymc as pm\n",
    "import arviz as az\n",
    "import numpy\n",
    "import pymc\n",
    "import pandas as pd"
   ]
  },
  {
   "cell_type": "markdown",
   "metadata": {
    "slideshow": {
     "slide_type": "slide"
    }
   },
   "source": [
    "## Website data for control & variant of the site\n",
    "\n",
    "Here, our hypothesis is:\n",
    "\n",
    "&emsp; $H_{0}$: With the variant, there is no change\n",
    "\n",
    "&emsp; $H_{1}$: With the variant, we see a change by x%"
   ]
  },
  {
   "cell_type": "markdown",
   "metadata": {},
   "source": [
    "# Content\n",
    "\n",
    "1. [Read Data](#read_data)\n",
    "2. [Frequentist Tests](#frequentist_test)\n",
    "3. [A/B Test for Control and Test Samples](#test1_ab)\n",
    "4. [Adding a few outliers to Test Period](#test2_add_outlier)\n",
    "    * [Run the model with 2 outliers](#run2_with_outlier)\n",
    "5. [Conclusion](#conclusion)\n",
    "    * [Bayesian Statistics Conclusion](#bayesian_stat_conclusion)"
   ]
  },
  {
   "cell_type": "markdown",
   "metadata": {
    "slideshow": {
     "slide_type": "slide"
    }
   },
   "source": [
    "## 1. Read data\n",
    "<a id=\"read_data\"></a>\n",
    "\n",
    "These are two generated data sets from normal distribution for:\n",
    "* mu = 15, std_dev = 15, keeping only positive numbers\n",
    "* mu = 13, std_dev = 17, keeping only positive numbers\n",
    "\n",
    "This is to simulate data that can be only positive such as work time duration for a particular process or auction prices for certain products, etc."
   ]
  },
  {
   "cell_type": "code",
   "execution_count": 2,
   "metadata": {
    "slideshow": {
     "slide_type": "subslide"
    }
   },
   "outputs": [
    {
     "data": {
      "text/html": [
       "<div>\n",
       "<style scoped>\n",
       "    .dataframe tbody tr th:only-of-type {\n",
       "        vertical-align: middle;\n",
       "    }\n",
       "\n",
       "    .dataframe tbody tr th {\n",
       "        vertical-align: top;\n",
       "    }\n",
       "\n",
       "    .dataframe thead th {\n",
       "        text-align: right;\n",
       "    }\n",
       "</style>\n",
       "<table border=\"1\" class=\"dataframe\">\n",
       "  <thead>\n",
       "    <tr style=\"text-align: right;\">\n",
       "      <th></th>\n",
       "      <th>session</th>\n",
       "      <th>rate</th>\n",
       "    </tr>\n",
       "  </thead>\n",
       "  <tbody>\n",
       "    <tr>\n",
       "      <th>0</th>\n",
       "      <td>0</td>\n",
       "      <td>12.465066</td>\n",
       "    </tr>\n",
       "    <tr>\n",
       "      <th>1</th>\n",
       "      <td>1</td>\n",
       "      <td>29.124034</td>\n",
       "    </tr>\n",
       "    <tr>\n",
       "      <th>2</th>\n",
       "      <td>2</td>\n",
       "      <td>12.418092</td>\n",
       "    </tr>\n",
       "    <tr>\n",
       "      <th>3</th>\n",
       "      <td>3</td>\n",
       "      <td>21.618755</td>\n",
       "    </tr>\n",
       "    <tr>\n",
       "      <th>4</th>\n",
       "      <td>4</td>\n",
       "      <td>10.789454</td>\n",
       "    </tr>\n",
       "  </tbody>\n",
       "</table>\n",
       "</div>"
      ],
      "text/plain": [
       "   session       rate\n",
       "0        0  12.465066\n",
       "1        1  29.124034\n",
       "2        2  12.418092\n",
       "3        3  21.618755\n",
       "4        4  10.789454"
      ]
     },
     "execution_count": 2,
     "metadata": {},
     "output_type": "execute_result"
    }
   ],
   "source": [
    "df_control = pd.read_csv('../data/half_normal_data_mu15_std15.csv')\n",
    "df_control.head()"
   ]
  },
  {
   "cell_type": "code",
   "execution_count": 3,
   "metadata": {
    "slideshow": {
     "slide_type": "subslide"
    }
   },
   "outputs": [
    {
     "data": {
      "text/html": [
       "<div>\n",
       "<style scoped>\n",
       "    .dataframe tbody tr th:only-of-type {\n",
       "        vertical-align: middle;\n",
       "    }\n",
       "\n",
       "    .dataframe tbody tr th {\n",
       "        vertical-align: top;\n",
       "    }\n",
       "\n",
       "    .dataframe thead th {\n",
       "        text-align: right;\n",
       "    }\n",
       "</style>\n",
       "<table border=\"1\" class=\"dataframe\">\n",
       "  <thead>\n",
       "    <tr style=\"text-align: right;\">\n",
       "      <th></th>\n",
       "      <th>session</th>\n",
       "      <th>rate</th>\n",
       "    </tr>\n",
       "  </thead>\n",
       "  <tbody>\n",
       "    <tr>\n",
       "      <th>0</th>\n",
       "      <td>0</td>\n",
       "      <td>1.636872</td>\n",
       "    </tr>\n",
       "    <tr>\n",
       "      <th>1</th>\n",
       "      <td>1</td>\n",
       "      <td>24.860388</td>\n",
       "    </tr>\n",
       "    <tr>\n",
       "      <th>2</th>\n",
       "      <td>2</td>\n",
       "      <td>12.369456</td>\n",
       "    </tr>\n",
       "    <tr>\n",
       "      <th>3</th>\n",
       "      <td>3</td>\n",
       "      <td>29.880620</td>\n",
       "    </tr>\n",
       "    <tr>\n",
       "      <th>4</th>\n",
       "      <td>4</td>\n",
       "      <td>14.867301</td>\n",
       "    </tr>\n",
       "  </tbody>\n",
       "</table>\n",
       "</div>"
      ],
      "text/plain": [
       "   session       rate\n",
       "0        0   1.636872\n",
       "1        1  24.860388\n",
       "2        2  12.369456\n",
       "3        3  29.880620\n",
       "4        4  14.867301"
      ]
     },
     "execution_count": 3,
     "metadata": {},
     "output_type": "execute_result"
    }
   ],
   "source": [
    "df_test= pd.read_csv('../data/half_normal_data_mu13_std15.csv')\n",
    "df_test.head()"
   ]
  },
  {
   "cell_type": "code",
   "execution_count": 4,
   "metadata": {},
   "outputs": [
    {
     "name": "stdout",
     "output_type": "stream",
     "text": [
      "Common Sense Check\n",
      "   Control (A):  mean =  18.909599  std dev =  11.842676\n",
      "   Test    (B):  mean =  16.414283  std dev =  11.381074\n"
     ]
    }
   ],
   "source": [
    "# Common Sense Check\n",
    "print(\"Common Sense Check\")\n",
    "print(\"   Control (A):  mean = %10.6f  std dev = %10.6f\" % (df_control['rate'].mean(), df_control['rate'].std()))\n",
    "print(\"   Test    (B):  mean = %10.6f  std dev = %10.6f\" % (df_test['rate'].mean(), df_test['rate'].std()))"
   ]
  },
  {
   "cell_type": "code",
   "execution_count": 5,
   "metadata": {},
   "outputs": [],
   "source": [
    "def plot_posterior_side_by_side(conv_a, conv_b, graph_title):\n",
    "    plt.figure(figsize=(10, 6))\n",
    "\n",
    "    # plt.subplot(1, 2, 1)\n",
    "    plt.hist(conv_a, bins=35, histtype='stepfilled', \n",
    "    color='#da6d75', label='Conversion A',alpha=0.5)\n",
    "    plt.legend()\n",
    "\n",
    "    plt.hist(conv_b, bins=35, histtype='stepfilled',\n",
    "    color='#52c4a8', label='Conversion B',alpha=0.5)\n",
    "    # plt.title('Posterior Lift')\n",
    "    plt.title(graph_title)\n",
    "    plt.legend()\n",
    "\n",
    "    plt.show()"
   ]
  },
  {
   "cell_type": "code",
   "execution_count": 6,
   "metadata": {},
   "outputs": [],
   "source": [
    "def t_test_6_ways(data_a, data_b):\n",
    "    \n",
    "    # Assume the variance of the 2 datasets are equal: 2-tail test\n",
    "    print('Difference in means T-Tests')\n",
    "    print('   Equal Var & Two Sided:', sps.ttest_ind(a=data_a, b=data_b, equal_var=True, alternative=\"two-sided\"))\n",
    "\n",
    "    #   1-tail test less than\n",
    "    print('   Equal Var & A < B    :', sps.ttest_ind(a=data_a, b=data_b, equal_var=True, alternative=\"less\"))\n",
    "    \n",
    "    #   1-tail test greater than\n",
    "    print('   Equal Var & A > B    :', sps.ttest_ind(a=data_a, b=data_b, equal_var=True, alternative=\"greater\"), '\\n')\n",
    "    \n",
    "    # Assume the variance of the 2 datasets are NOT equal: 2-tail test\n",
    "    print('   Not-Equal Var & Two Sided:', sps.ttest_ind(a=data_a, b=data_b, equal_var=False, alternative=\"two-sided\"))\n",
    "\n",
    "    #   1-tail test less than\n",
    "    print('   Not-Equal Var & A < B    :', sps.ttest_ind(a=data_a, b=data_b, equal_var=False, alternative=\"less\"))\n",
    "    \n",
    "    #   1-tail test greater than\n",
    "    print('   Not-Equal Var & A > B    :', sps.ttest_ind(a=data_a, b=data_b, equal_var=False, alternative=\"greater\"))"
   ]
  },
  {
   "cell_type": "markdown",
   "metadata": {},
   "source": [
    "# Frequentist Tests\n",
    "<a id=\"frequentist_test\"></a>\n",
    "Using our standard t-tests to determine if the mean of the revenue lift is different or less than (control < treatment) per our equal variance and two-sided/one-sided tests, we get:"
   ]
  },
  {
   "cell_type": "code",
   "execution_count": 7,
   "metadata": {},
   "outputs": [
    {
     "name": "stdout",
     "output_type": "stream",
     "text": [
      "Difference in means T-Tests\n",
      "   Equal Var & Two Sided: Ttest_indResult(statistic=1.9467289561575793, pvalue=0.052423253968572975)\n",
      "   Equal Var & A < B    : Ttest_indResult(statistic=1.9467289561575793, pvalue=0.9737883730157135)\n",
      "   Equal Var & A > B    : Ttest_indResult(statistic=1.9467289561575793, pvalue=0.026211626984286487) \n",
      "\n",
      "   Not-Equal Var & Two Sided: Ttest_indResult(statistic=1.9488527243895295, pvalue=0.052168109070952026)\n",
      "   Not-Equal Var & A < B    : Ttest_indResult(statistic=1.9488527243895295, pvalue=0.973915945464524)\n",
      "   Not-Equal Var & A > B    : Ttest_indResult(statistic=1.9488527243895295, pvalue=0.026084054535476013)\n"
     ]
    }
   ],
   "source": [
    "t_test_6_ways(df_control['rate'], df_test['rate'])"
   ]
  },
  {
   "cell_type": "markdown",
   "metadata": {},
   "source": [
    "## Build a model\n",
    "\n",
    "Distribution Explorer https://distribution-explorer.github.io"
   ]
  },
  {
   "cell_type": "markdown",
   "metadata": {},
   "source": [
    "## Test 1: A/B Test for Control and Test Samples\n",
    "<a id=\"test1_ab\"></a>"
   ]
  },
  {
   "cell_type": "code",
   "execution_count": 8,
   "metadata": {},
   "outputs": [
    {
     "name": "stderr",
     "output_type": "stream",
     "text": [
      "Multiprocess sampling (4 chains in 4 jobs)\n",
      "CompoundStep\n",
      ">Slice: [conversion_data_A]\n",
      ">Slice: [conversion_data_B]\n"
     ]
    },
    {
     "data": {
      "text/html": [
       "\n",
       "<style>\n",
       "    /* Turns off some styling */\n",
       "    progress {\n",
       "        /* gets rid of default border in Firefox and Opera. */\n",
       "        border: none;\n",
       "        /* Needs to be in here for Safari polyfill so background images work as expected. */\n",
       "        background-size: auto;\n",
       "    }\n",
       "    .progress-bar-interrupted, .progress-bar-interrupted::-webkit-progress-bar {\n",
       "        background: #F44336;\n",
       "    }\n",
       "</style>\n"
      ],
      "text/plain": [
       "<IPython.core.display.HTML object>"
      ]
     },
     "metadata": {},
     "output_type": "display_data"
    },
    {
     "data": {
      "text/html": [
       "\n",
       "    <div>\n",
       "      <progress value='22000' class='' max='22000' style='width:300px; height:20px; vertical-align: middle;'></progress>\n",
       "      100.00% [22000/22000 00:06<00:00 Sampling 4 chains, 0 divergences]\n",
       "    </div>\n",
       "    "
      ],
      "text/plain": [
       "<IPython.core.display.HTML object>"
      ]
     },
     "metadata": {},
     "output_type": "display_data"
    },
    {
     "name": "stderr",
     "output_type": "stream",
     "text": [
      "Sampling 4 chains for 500 tune and 5_000 draw iterations (2_000 + 20_000 draws total) took 53 seconds.\n"
     ]
    }
   ],
   "source": [
    "with pm.Model() as ab_model:\n",
    "    \n",
    "    # PRIORs\n",
    "    continuous_data_prior_a = pm.distributions.continuous.Normal('conversion_data_A', mu=30, sigma=5)\n",
    "    continuous_data_prior_b = pm.distributions.continuous.Normal('conversion_data_B', mu=30, sigma=5)\n",
    "    \n",
    "    # Likelihood of observing data given parameter\n",
    "    how_likely_a = pm.Poisson('likelihood_A', continuous_data_prior_a, observed=df_control['rate'])\n",
    "    how_likely_b = pm.Poisson('likelihood_B', continuous_data_prior_b, observed=df_test['rate'])\n",
    "    \n",
    "    # POSTERIORs\n",
    "    #   conversion_A\n",
    "    #   conversion_B\n",
    "    #   conv_lift\n",
    "    conv_a = pm.Deterministic('conversion_A', continuous_data_prior_a)\n",
    "    conv_b = pm.Deterministic('conversion_B', continuous_data_prior_b)\n",
    "    \n",
    "    # Calculate lift difference\n",
    "    pm.Deterministic('conv_lift', conv_a - conv_b)   \n",
    "    \n",
    "    # Hit the magical inference button\n",
    "    step = pm.Slice()\n",
    "    trace = pm.sample(5000, step=step, tune=500, random_seed=8888, progressbar=True)\n",
    "    \n",
    "    # pm.Metropolis()\n",
    "    # trace = pm.sample(10000, step=step, tune=500, random_seed=42, progressbar=True)"
   ]
  },
  {
   "cell_type": "code",
   "execution_count": 9,
   "metadata": {},
   "outputs": [
    {
     "name": "stdout",
     "output_type": "stream",
     "text": [
      "[18.66628515 18.60592525 18.94005257 18.4682675  18.21222453] [15.78552255 16.01012684 15.83902422 15.9166824  16.49168981]\n",
      "[2.8807626  2.59579841 3.10102835 2.5515851  1.72053472]\n"
     ]
    }
   ],
   "source": [
    "# Posterior Predictive Values\n",
    "post_conversion_a = trace.posterior.stack(draws=(\"chain\", \"draw\"))[\"conversion_data_A\"].values \n",
    "post_conversion_b = trace.posterior.stack(draws=(\"chain\", \"draw\"))[\"conversion_data_B\"].values\n",
    "print(post_conversion_a[0:5], post_conversion_b[0:5])\n",
    "\n",
    "# Relative Lift\n",
    "conversion_lift = trace.posterior.stack(draws=(\"chain\", \"draw\"))[\"conv_lift\"].values\n",
    "print(conversion_lift[0:5])"
   ]
  },
  {
   "cell_type": "code",
   "execution_count": 10,
   "metadata": {},
   "outputs": [
    {
     "name": "stdout",
     "output_type": "stream",
     "text": [
      "18.47504810608488 16.009811544296817\n"
     ]
    }
   ],
   "source": [
    "print(post_conversion_a.mean(), post_conversion_b.mean())"
   ]
  },
  {
   "cell_type": "code",
   "execution_count": 11,
   "metadata": {},
   "outputs": [
    {
     "data": {
      "image/png": "[encoded data removed]",
      "text/plain": [
       "<Figure size 720x432 with 1 Axes>"
      ]
     },
     "metadata": {
      "needs_background": "light"
     },
     "output_type": "display_data"
    }
   ],
   "source": [
    "plot_posterior_side_by_side(post_conversion_a, post_conversion_b, 'Control & Test Samples')"
   ]
  },
  {
   "cell_type": "code",
   "execution_count": 12,
   "metadata": {},
   "outputs": [
    {
     "data": {
      "text/plain": [
       "Text(0.5, 1.0, 'Conversion Lift')"
      ]
     },
     "execution_count": 12,
     "metadata": {},
     "output_type": "execute_result"
    },
    {
     "data": {
      "image/png": "[encoded data removed]",
      "text/plain": [
       "<Figure size 720x360 with 1 Axes>"
      ]
     },
     "metadata": {
      "needs_background": "light"
     },
     "output_type": "display_data"
    }
   ],
   "source": [
    "ax = az.plot_posterior(trace, var_names = ['conv_lift'], kind='hist', \n",
    "                  hdi_prob = 0.95, ref_val=0, textsize = 16, figsize=(10, 5))\n",
    "\n",
    "ax.set_title('Conversion Lift')"
   ]
  },
  {
   "cell_type": "code",
   "execution_count": 13,
   "metadata": {},
   "outputs": [
    {
     "name": "stdout",
     "output_type": "stream",
     "text": [
      "Probability of Conversion Lift (treatment > control) = 1.000000\n"
     ]
    }
   ],
   "source": [
    "print('Probability of Conversion Lift (treatment > control) = %.6f' % ((conversion_lift > 0).mean()))"
   ]
  },
  {
   "cell_type": "code",
   "execution_count": 14,
   "metadata": {},
   "outputs": [
    {
     "name": "stdout",
     "output_type": "stream",
     "text": [
      "Posterior Mean & Variance\n",
      "   Control (A):  mean =  18.475048  std dev =   0.328782\n",
      "   Test    (B):  mean =  16.009812  std dev =   0.316303\n"
     ]
    }
   ],
   "source": [
    "# Posterior Mean & Variance\n",
    "print(\"Posterior Mean & Variance\")\n",
    "print(\"   Control (A):  mean = %10.6f  std dev = %10.6f\" % (post_conversion_a.mean(), post_conversion_a.std()))\n",
    "print(\"   Test    (B):  mean = %10.6f  std dev = %10.6f\" % (post_conversion_b.mean(), post_conversion_b.std()))"
   ]
  },
  {
   "cell_type": "code",
   "execution_count": 15,
   "metadata": {},
   "outputs": [
    {
     "name": "stdout",
     "output_type": "stream",
     "text": [
      "Common Sense Check Minutes\n",
      "   Control (A):  mean =  18.909599  std dev =  11.842676\n",
      "   Test    (B):  mean =  16.414283  std dev =  11.381074\n"
     ]
    }
   ],
   "source": [
    "# Common Sense Check\n",
    "print(\"Common Sense Check Minutes\")\n",
    "print(\"   Control (A):  mean = %10.6f  std dev = %10.6f\" % (df_control['rate'].mean(), df_control['rate'].std()))\n",
    "print(\"   Test    (B):  mean = %10.6f  std dev = %10.6f\" % (df_test['rate'].mean(), df_test['rate'].std()))"
   ]
  },
  {
   "cell_type": "code",
   "execution_count": 16,
   "metadata": {},
   "outputs": [
    {
     "name": "stdout",
     "output_type": "stream",
     "text": [
      "Difference in means T-Tests\n",
      "   Equal Var & Two Sided: Ttest_indResult(statistic=1.9467289561575793, pvalue=0.052423253968572975)\n",
      "   Equal Var & A < B    : Ttest_indResult(statistic=1.9467289561575793, pvalue=0.9737883730157135)\n",
      "   Equal Var & A > B    : Ttest_indResult(statistic=1.9467289561575793, pvalue=0.026211626984286487) \n",
      "\n",
      "   Not-Equal Var & Two Sided: Ttest_indResult(statistic=1.9488527243895295, pvalue=0.052168109070952026)\n",
      "   Not-Equal Var & A < B    : Ttest_indResult(statistic=1.9488527243895295, pvalue=0.973915945464524)\n",
      "   Not-Equal Var & A > B    : Ttest_indResult(statistic=1.9488527243895295, pvalue=0.026084054535476013)\n"
     ]
    }
   ],
   "source": [
    "t_test_6_ways(df_control['rate'], df_test['rate'])"
   ]
  },
  {
   "cell_type": "code",
   "execution_count": 17,
   "metadata": {},
   "outputs": [
    {
     "data": {
      "text/html": [
       "<div>\n",
       "<style scoped>\n",
       "    .dataframe tbody tr th:only-of-type {\n",
       "        vertical-align: middle;\n",
       "    }\n",
       "\n",
       "    .dataframe tbody tr th {\n",
       "        vertical-align: top;\n",
       "    }\n",
       "\n",
       "    .dataframe thead th {\n",
       "        text-align: right;\n",
       "    }\n",
       "</style>\n",
       "<table border=\"1\" class=\"dataframe\">\n",
       "  <thead>\n",
       "    <tr style=\"text-align: right;\">\n",
       "      <th></th>\n",
       "      <th>session</th>\n",
       "      <th>rate</th>\n",
       "    </tr>\n",
       "  </thead>\n",
       "  <tbody>\n",
       "    <tr>\n",
       "      <th>0</th>\n",
       "      <td>0</td>\n",
       "      <td>1.636872</td>\n",
       "    </tr>\n",
       "    <tr>\n",
       "      <th>1</th>\n",
       "      <td>1</td>\n",
       "      <td>24.860388</td>\n",
       "    </tr>\n",
       "    <tr>\n",
       "      <th>2</th>\n",
       "      <td>2</td>\n",
       "      <td>12.369456</td>\n",
       "    </tr>\n",
       "    <tr>\n",
       "      <th>3</th>\n",
       "      <td>3</td>\n",
       "      <td>29.880620</td>\n",
       "    </tr>\n",
       "    <tr>\n",
       "      <th>4</th>\n",
       "      <td>4</td>\n",
       "      <td>14.867301</td>\n",
       "    </tr>\n",
       "    <tr>\n",
       "      <th>...</th>\n",
       "      <td>...</td>\n",
       "      <td>...</td>\n",
       "    </tr>\n",
       "    <tr>\n",
       "      <th>155</th>\n",
       "      <td>155</td>\n",
       "      <td>29.233537</td>\n",
       "    </tr>\n",
       "    <tr>\n",
       "      <th>156</th>\n",
       "      <td>156</td>\n",
       "      <td>7.299605</td>\n",
       "    </tr>\n",
       "    <tr>\n",
       "      <th>157</th>\n",
       "      <td>157</td>\n",
       "      <td>41.128513</td>\n",
       "    </tr>\n",
       "    <tr>\n",
       "      <th>158</th>\n",
       "      <td>158</td>\n",
       "      <td>16.995962</td>\n",
       "    </tr>\n",
       "    <tr>\n",
       "      <th>159</th>\n",
       "      <td>159</td>\n",
       "      <td>19.241780</td>\n",
       "    </tr>\n",
       "  </tbody>\n",
       "</table>\n",
       "<p>160 rows × 2 columns</p>\n",
       "</div>"
      ],
      "text/plain": [
       "     session       rate\n",
       "0          0   1.636872\n",
       "1          1  24.860388\n",
       "2          2  12.369456\n",
       "3          3  29.880620\n",
       "4          4  14.867301\n",
       "..       ...        ...\n",
       "155      155  29.233537\n",
       "156      156   7.299605\n",
       "157      157  41.128513\n",
       "158      158  16.995962\n",
       "159      159  19.241780\n",
       "\n",
       "[160 rows x 2 columns]"
      ]
     },
     "execution_count": 17,
     "metadata": {},
     "output_type": "execute_result"
    }
   ],
   "source": [
    "df_test"
   ]
  },
  {
   "cell_type": "markdown",
   "metadata": {},
   "source": [
    "## Test 2: Adding a few outliers to Test Period\n",
    "<a id=\"test2_add_outlier\"></a>"
   ]
  },
  {
   "cell_type": "code",
   "execution_count": 18,
   "metadata": {},
   "outputs": [
    {
     "data": {
      "text/plain": [
       "count    169.000000\n",
       "mean      18.909599\n",
       "std       11.842676\n",
       "min        0.099608\n",
       "25%       10.485982\n",
       "50%       18.370997\n",
       "75%       25.558300\n",
       "max       60.280997\n",
       "Name: rate, dtype: float64"
      ]
     },
     "execution_count": 18,
     "metadata": {},
     "output_type": "execute_result"
    }
   ],
   "source": [
    "# Look at the summary stats for df_control['rate']\n",
    "df_control['rate'].describe()"
   ]
  },
  {
   "cell_type": "code",
   "execution_count": 19,
   "metadata": {},
   "outputs": [
    {
     "data": {
      "text/plain": [
       "count    160.000000\n",
       "mean      16.414283\n",
       "std       11.381074\n",
       "min        0.167529\n",
       "25%        7.533133\n",
       "50%       14.945854\n",
       "75%       23.025342\n",
       "max       57.324484\n",
       "Name: rate, dtype: float64"
      ]
     },
     "execution_count": 19,
     "metadata": {},
     "output_type": "execute_result"
    }
   ],
   "source": [
    "# Look at the summary stats for df_test['rate']\n",
    "df_test['rate'].describe()"
   ]
  },
  {
   "cell_type": "code",
   "execution_count": 20,
   "metadata": {},
   "outputs": [
    {
     "data": {
      "text/html": [
       "<div>\n",
       "<style scoped>\n",
       "    .dataframe tbody tr th:only-of-type {\n",
       "        vertical-align: middle;\n",
       "    }\n",
       "\n",
       "    .dataframe tbody tr th {\n",
       "        vertical-align: top;\n",
       "    }\n",
       "\n",
       "    .dataframe thead th {\n",
       "        text-align: right;\n",
       "    }\n",
       "</style>\n",
       "<table border=\"1\" class=\"dataframe\">\n",
       "  <thead>\n",
       "    <tr style=\"text-align: right;\">\n",
       "      <th></th>\n",
       "      <th>session</th>\n",
       "      <th>rate</th>\n",
       "    </tr>\n",
       "  </thead>\n",
       "  <tbody>\n",
       "    <tr>\n",
       "      <th>155</th>\n",
       "      <td>155</td>\n",
       "      <td>29.233537</td>\n",
       "    </tr>\n",
       "    <tr>\n",
       "      <th>156</th>\n",
       "      <td>156</td>\n",
       "      <td>7.299605</td>\n",
       "    </tr>\n",
       "    <tr>\n",
       "      <th>157</th>\n",
       "      <td>157</td>\n",
       "      <td>41.128513</td>\n",
       "    </tr>\n",
       "    <tr>\n",
       "      <th>158</th>\n",
       "      <td>158</td>\n",
       "      <td>16.995962</td>\n",
       "    </tr>\n",
       "    <tr>\n",
       "      <th>159</th>\n",
       "      <td>159</td>\n",
       "      <td>19.241780</td>\n",
       "    </tr>\n",
       "  </tbody>\n",
       "</table>\n",
       "</div>"
      ],
      "text/plain": [
       "     session       rate\n",
       "155      155  29.233537\n",
       "156      156   7.299605\n",
       "157      157  41.128513\n",
       "158      158  16.995962\n",
       "159      159  19.241780"
      ]
     },
     "execution_count": 20,
     "metadata": {},
     "output_type": "execute_result"
    }
   ],
   "source": [
    "df_test.tail()"
   ]
  },
  {
   "cell_type": "code",
   "execution_count": 21,
   "metadata": {},
   "outputs": [
    {
     "data": {
      "text/html": [
       "<div>\n",
       "<style scoped>\n",
       "    .dataframe tbody tr th:only-of-type {\n",
       "        vertical-align: middle;\n",
       "    }\n",
       "\n",
       "    .dataframe tbody tr th {\n",
       "        vertical-align: top;\n",
       "    }\n",
       "\n",
       "    .dataframe thead th {\n",
       "        text-align: right;\n",
       "    }\n",
       "</style>\n",
       "<table border=\"1\" class=\"dataframe\">\n",
       "  <thead>\n",
       "    <tr style=\"text-align: right;\">\n",
       "      <th></th>\n",
       "      <th>session</th>\n",
       "      <th>rate</th>\n",
       "    </tr>\n",
       "  </thead>\n",
       "  <tbody>\n",
       "    <tr>\n",
       "      <th>160</th>\n",
       "      <td>160</td>\n",
       "      <td>75</td>\n",
       "    </tr>\n",
       "    <tr>\n",
       "      <th>161</th>\n",
       "      <td>161</td>\n",
       "      <td>80</td>\n",
       "    </tr>\n",
       "  </tbody>\n",
       "</table>\n",
       "</div>"
      ],
      "text/plain": [
       "     session  rate\n",
       "160      160    75\n",
       "161      161    80"
      ]
     },
     "execution_count": 21,
     "metadata": {},
     "output_type": "execute_result"
    }
   ],
   "source": [
    "# Add 2 outlier data points which are slightly higher than the max for df_test2\n",
    "\n",
    "dict1 = {\"session\" : [160, 161],\n",
    "         \"rate\"    : [75 , 80]}\n",
    "\n",
    "df_temp = pd.DataFrame(dict1, index=[len(df_test), len(df_test)+1])\n",
    "df_temp"
   ]
  },
  {
   "cell_type": "code",
   "execution_count": 22,
   "metadata": {},
   "outputs": [
    {
     "data": {
      "text/html": [
       "<div>\n",
       "<style scoped>\n",
       "    .dataframe tbody tr th:only-of-type {\n",
       "        vertical-align: middle;\n",
       "    }\n",
       "\n",
       "    .dataframe tbody tr th {\n",
       "        vertical-align: top;\n",
       "    }\n",
       "\n",
       "    .dataframe thead th {\n",
       "        text-align: right;\n",
       "    }\n",
       "</style>\n",
       "<table border=\"1\" class=\"dataframe\">\n",
       "  <thead>\n",
       "    <tr style=\"text-align: right;\">\n",
       "      <th></th>\n",
       "      <th>session</th>\n",
       "      <th>rate</th>\n",
       "    </tr>\n",
       "  </thead>\n",
       "  <tbody>\n",
       "    <tr>\n",
       "      <th>157</th>\n",
       "      <td>157</td>\n",
       "      <td>41.128513</td>\n",
       "    </tr>\n",
       "    <tr>\n",
       "      <th>158</th>\n",
       "      <td>158</td>\n",
       "      <td>16.995962</td>\n",
       "    </tr>\n",
       "    <tr>\n",
       "      <th>159</th>\n",
       "      <td>159</td>\n",
       "      <td>19.241780</td>\n",
       "    </tr>\n",
       "    <tr>\n",
       "      <th>160</th>\n",
       "      <td>160</td>\n",
       "      <td>75.000000</td>\n",
       "    </tr>\n",
       "    <tr>\n",
       "      <th>161</th>\n",
       "      <td>161</td>\n",
       "      <td>80.000000</td>\n",
       "    </tr>\n",
       "  </tbody>\n",
       "</table>\n",
       "</div>"
      ],
      "text/plain": [
       "     session       rate\n",
       "157      157  41.128513\n",
       "158      158  16.995962\n",
       "159      159  19.241780\n",
       "160      160  75.000000\n",
       "161      161  80.000000"
      ]
     },
     "execution_count": 22,
     "metadata": {},
     "output_type": "execute_result"
    }
   ],
   "source": [
    "df_test2 = pd.concat([df_test, df_temp])\n",
    "df_test2.tail()"
   ]
  },
  {
   "cell_type": "code",
   "execution_count": 23,
   "metadata": {},
   "outputs": [
    {
     "name": "stdout",
     "output_type": "stream",
     "text": [
      "Common Sense Check\n",
      "   Control (A):  mean =  18.909599  std dev =  11.842676\n",
      "   Test    (B):  mean =  16.414283  std dev =  11.381074\n",
      "   Test2  (B2):  mean =  17.168428  std dev =  13.182518\n"
     ]
    }
   ],
   "source": [
    "# Common Sense Check\n",
    "print(\"Common Sense Check\")\n",
    "print(\"   Control (A):  mean = %10.6f  std dev = %10.6f\" % (df_control['rate'].mean(), df_control['rate'].std()))\n",
    "print(\"   Test    (B):  mean = %10.6f  std dev = %10.6f\" % (df_test['rate'].mean(), df_test['rate'].std()))\n",
    "print(\"   Test2  (B2):  mean = %10.6f  std dev = %10.6f\" % (df_test2['rate'].mean(), df_test2['rate'].std()))"
   ]
  },
  {
   "cell_type": "code",
   "execution_count": 24,
   "metadata": {},
   "outputs": [
    {
     "name": "stdout",
     "output_type": "stream",
     "text": [
      "Difference in means T-Tests\n",
      "   Equal Var & Two Sided: Ttest_indResult(statistic=1.2651827961421163, pvalue=0.2067011494561381)\n",
      "   Equal Var & A < B    : Ttest_indResult(statistic=1.2651827961421163, pvalue=0.8966494252719309)\n",
      "   Equal Var & A > B    : Ttest_indResult(statistic=1.2651827961421163, pvalue=0.10335057472806905) \n",
      "\n",
      "   Not-Equal Var & Two Sided: Ttest_indResult(statistic=1.2623204887791464, pvalue=0.20774736286625134)\n",
      "   Not-Equal Var & A < B    : Ttest_indResult(statistic=1.2623204887791464, pvalue=0.8961263185668743)\n",
      "   Not-Equal Var & A > B    : Ttest_indResult(statistic=1.2623204887791464, pvalue=0.10387368143312567)\n"
     ]
    }
   ],
   "source": [
    "# After the 2 outlier data points were added to df_test2\n",
    "\n",
    "t_test_6_ways(df_control['rate'], df_test2['rate'])"
   ]
  },
  {
   "cell_type": "code",
   "execution_count": 25,
   "metadata": {},
   "outputs": [
    {
     "name": "stdout",
     "output_type": "stream",
     "text": [
      "Difference in means T-Tests\n",
      "   Equal Var & Two Sided: Ttest_indResult(statistic=1.9467289561575793, pvalue=0.052423253968572975)\n",
      "   Equal Var & A < B    : Ttest_indResult(statistic=1.9467289561575793, pvalue=0.9737883730157135)\n",
      "   Equal Var & A > B    : Ttest_indResult(statistic=1.9467289561575793, pvalue=0.026211626984286487) \n",
      "\n",
      "   Not-Equal Var & Two Sided: Ttest_indResult(statistic=1.9488527243895295, pvalue=0.052168109070952026)\n",
      "   Not-Equal Var & A < B    : Ttest_indResult(statistic=1.9488527243895295, pvalue=0.973915945464524)\n",
      "   Not-Equal Var & A > B    : Ttest_indResult(statistic=1.9488527243895295, pvalue=0.026084054535476013)\n"
     ]
    }
   ],
   "source": [
    "# Recall the T-tests with original data\n",
    "\n",
    "t_test_6_ways(df_control['rate'], df_test['rate'])"
   ]
  },
  {
   "cell_type": "markdown",
   "metadata": {},
   "source": [
    "### Run the model with 2 outliers\n",
    "<a id=\"run2_with_outlier\"></a>"
   ]
  },
  {
   "cell_type": "code",
   "execution_count": 26,
   "metadata": {},
   "outputs": [
    {
     "name": "stderr",
     "output_type": "stream",
     "text": [
      "Multiprocess sampling (4 chains in 4 jobs)\n",
      "CompoundStep\n",
      ">Slice: [conversion_data_A]\n",
      ">Slice: [conversion_data_B]\n"
     ]
    },
    {
     "data": {
      "text/html": [
       "\n",
       "<style>\n",
       "    /* Turns off some styling */\n",
       "    progress {\n",
       "        /* gets rid of default border in Firefox and Opera. */\n",
       "        border: none;\n",
       "        /* Needs to be in here for Safari polyfill so background images work as expected. */\n",
       "        background-size: auto;\n",
       "    }\n",
       "    .progress-bar-interrupted, .progress-bar-interrupted::-webkit-progress-bar {\n",
       "        background: #F44336;\n",
       "    }\n",
       "</style>\n"
      ],
      "text/plain": [
       "<IPython.core.display.HTML object>"
      ]
     },
     "metadata": {},
     "output_type": "display_data"
    },
    {
     "data": {
      "text/html": [
       "\n",
       "    <div>\n",
       "      <progress value='8000' class='' max='8000' style='width:300px; height:20px; vertical-align: middle;'></progress>\n",
       "      100.00% [8000/8000 00:03<00:00 Sampling 4 chains, 0 divergences]\n",
       "    </div>\n",
       "    "
      ],
      "text/plain": [
       "<IPython.core.display.HTML object>"
      ]
     },
     "metadata": {},
     "output_type": "display_data"
    },
    {
     "name": "stderr",
     "output_type": "stream",
     "text": [
      "Sampling 4 chains for 1_000 tune and 1_000 draw iterations (4_000 + 4_000 draws total) took 50 seconds.\n"
     ]
    }
   ],
   "source": [
    "with pm.Model() as ab_model2:\n",
    "\n",
    "    # PRIORs\n",
    "    continuous_data_prior_a = pm.distributions.continuous.Normal('conversion_data_A', mu=30, sigma=5)\n",
    "    continuous_data_prior_b = pm.distributions.continuous.Normal('conversion_data_B', mu=30, sigma=5)\n",
    "    \n",
    "    # Likelihood of observing data given parameter\n",
    "    how_likely_a = pm.Poisson('likelihood_A', continuous_data_prior_a, observed=df_control['rate'])\n",
    "    how_likely_b = pm.Poisson('likelihood_B', continuous_data_prior_b, observed=df_test2['rate'])\n",
    "    \n",
    "    # POSTERIORs\n",
    "    #   conversion_A\n",
    "    #   conversion_B\n",
    "    #   conv_lift\n",
    "    conv_a = pm.Deterministic('conversion_A', continuous_data_prior_a)\n",
    "    conv_b = pm.Deterministic('conversion_B', continuous_data_prior_b)\n",
    "    \n",
    "    # Calculate lift difference\n",
    "    pm.Deterministic('conv_lift', conv_a - conv_b)\n",
    "    \n",
    "    # trace = pm.sample(5000, step=step, tune=500, random_seed=8888, progressbar=True)\n",
    "    step = pm.Slice()\n",
    "    \n",
    "    # Hit the magical inference button\n",
    "    trace2 = pm.sample(step=step)"
   ]
  },
  {
   "cell_type": "code",
   "execution_count": 27,
   "metadata": {},
   "outputs": [
    {
     "name": "stdout",
     "output_type": "stream",
     "text": [
      "[18.92342373 18.79435306 18.75096687 17.87004897 18.95388528] [16.06564635 16.41257052 16.27268337 17.3444653  15.74245247]\n",
      "[2.8807626  2.59579841 3.10102835 2.5515851  1.72053472]\n"
     ]
    }
   ],
   "source": [
    "# Posterior Predictive Values\n",
    "post_conversion_a2 = trace2.posterior.stack(draws=(\"chain\", \"draw\"))[\"conversion_data_A\"].values \n",
    "post_conversion_b2 = trace2.posterior.stack(draws=(\"chain\", \"draw\"))[\"conversion_data_B\"].values\n",
    "print(post_conversion_a2[0:5], post_conversion_b2[0:5])\n",
    "\n",
    "# Relative Lift\n",
    "conversion_lift2 = trace2.posterior.stack(draws=(\"chain\", \"draw\"))[\"conv_lift\"].values\n",
    "print(conversion_lift[0:5])"
   ]
  },
  {
   "cell_type": "code",
   "execution_count": 28,
   "metadata": {},
   "outputs": [
    {
     "data": {
      "image/png": "[encoded data removed]",
      "text/plain": [
       "<Figure size 720x432 with 1 Axes>"
      ]
     },
     "metadata": {
      "needs_background": "light"
     },
     "output_type": "display_data"
    }
   ],
   "source": [
    "plot_posterior_side_by_side(post_conversion_a2, post_conversion_b2, 'Control vs Test Samples with 2 outliers')"
   ]
  },
  {
   "cell_type": "code",
   "execution_count": 29,
   "metadata": {},
   "outputs": [
    {
     "data": {
      "image/png": "[encoded data removed]",
      "text/plain": [
       "<Figure size 720x360 with 1 Axes>"
      ]
     },
     "metadata": {
      "needs_background": "light"
     },
     "output_type": "display_data"
    }
   ],
   "source": [
    "ax = az.plot_posterior(trace2, var_names = ['conv_lift'], kind='hist', \n",
    "                  hdi_prob = 0.95, ref_val=0, textsize = 16, figsize=(10, 5))\n",
    "\n",
    "ax.set_title('Conversion Lift')\n",
    "plt.show()"
   ]
  },
  {
   "cell_type": "code",
   "execution_count": 30,
   "metadata": {},
   "outputs": [
    {
     "name": "stdout",
     "output_type": "stream",
     "text": [
      "Probability of Conversion Lift (treatment > control) = 1.000000\n",
      "Probability of Conversion Lift (treatment < control) = 0.000000\n"
     ]
    }
   ],
   "source": [
    "print('Probability of Conversion Lift (treatment > control) = %.6f' % ((conversion_lift > 0).mean()))\n",
    "print('Probability of Conversion Lift (treatment < control) = %.6f' % ((conversion_lift < 0).mean()))"
   ]
  },
  {
   "cell_type": "code",
   "execution_count": 31,
   "metadata": {},
   "outputs": [
    {
     "name": "stdout",
     "output_type": "stream",
     "text": [
      "Posterior Conversion Rate\n",
      "   Control (A):  mean =  18.475048  std dev =   0.328782\n",
      "   Test    (B):  mean =  16.009812  std dev =   0.316303\n"
     ]
    }
   ],
   "source": [
    "# Posterior Conversion Rate\n",
    "print(\"Posterior Conversion Rate\")\n",
    "print(\"   Control (A):  mean = %10.6f  std dev = %10.6f\" % (post_conversion_a.mean(), post_conversion_a.std()))\n",
    "print(\"   Test    (B):  mean = %10.6f  std dev = %10.6f\" % (post_conversion_b.mean(), post_conversion_b.std()))"
   ]
  },
  {
   "cell_type": "code",
   "execution_count": 32,
   "metadata": {},
   "outputs": [
    {
     "name": "stdout",
     "output_type": "stream",
     "text": [
      "Common Sense Check\n",
      "   Control (A):  mean =  18.909599  std dev =  11.842676\n",
      "   Test    (B):  mean =  17.168428  std dev =  13.182518\n"
     ]
    }
   ],
   "source": [
    "# Common Sense Check\n",
    "print(\"Common Sense Check\")\n",
    "print(\"   Control (A):  mean = %10.6f  std dev = %10.6f\" % (df_control['rate'].mean(), df_control['rate'].std()))\n",
    "print(\"   Test    (B):  mean = %10.6f  std dev = %10.6f\" % (df_test2['rate'].mean(), df_test2['rate'].std()))"
   ]
  },
  {
   "cell_type": "markdown",
   "metadata": {},
   "source": [
    "# Conclusion\n",
    "<a id=\"conclusion\"></a>\n",
    "By adding 2 some what larger data points, frequentist t-stats changed.  Recall the original t-stats for control and test."
   ]
  },
  {
   "cell_type": "code",
   "execution_count": 33,
   "metadata": {},
   "outputs": [
    {
     "name": "stdout",
     "output_type": "stream",
     "text": [
      "Difference in means T-Tests\n",
      "   Equal Var & Two Sided: Ttest_indResult(statistic=1.9467289561575793, pvalue=0.052423253968572975)\n",
      "   Equal Var & A < B    : Ttest_indResult(statistic=1.9467289561575793, pvalue=0.9737883730157135)\n",
      "   Equal Var & A > B    : Ttest_indResult(statistic=1.9467289561575793, pvalue=0.026211626984286487) \n",
      "\n",
      "   Not-Equal Var & Two Sided: Ttest_indResult(statistic=1.9488527243895295, pvalue=0.052168109070952026)\n",
      "   Not-Equal Var & A < B    : Ttest_indResult(statistic=1.9488527243895295, pvalue=0.973915945464524)\n",
      "   Not-Equal Var & A > B    : Ttest_indResult(statistic=1.9488527243895295, pvalue=0.026084054535476013)\n"
     ]
    }
   ],
   "source": [
    "t_test_6_ways(df_control['rate'], df_test['rate'])"
   ]
  },
  {
   "cell_type": "markdown",
   "metadata": {},
   "source": [
    "In the test where control rate > test rate in both equal or non-equal variances, we can reject the \n",
    "null hypothesis that the two sample means are equal.\n",
    "\n",
    "Now, let's look at the t-stats for control and test2 (with 2 outlier data points added)."
   ]
  },
  {
   "cell_type": "code",
   "execution_count": 34,
   "metadata": {},
   "outputs": [
    {
     "name": "stdout",
     "output_type": "stream",
     "text": [
      "Difference in means T-Tests\n",
      "   Equal Var & Two Sided: Ttest_indResult(statistic=1.2651827961421163, pvalue=0.2067011494561381)\n",
      "   Equal Var & A < B    : Ttest_indResult(statistic=1.2651827961421163, pvalue=0.8966494252719309)\n",
      "   Equal Var & A > B    : Ttest_indResult(statistic=1.2651827961421163, pvalue=0.10335057472806905) \n",
      "\n",
      "   Not-Equal Var & Two Sided: Ttest_indResult(statistic=1.2623204887791464, pvalue=0.20774736286625134)\n",
      "   Not-Equal Var & A < B    : Ttest_indResult(statistic=1.2623204887791464, pvalue=0.8961263185668743)\n",
      "   Not-Equal Var & A > B    : Ttest_indResult(statistic=1.2623204887791464, pvalue=0.10387368143312567)\n"
     ]
    }
   ],
   "source": [
    "t_test_6_ways(df_control['rate'], df_test2['rate'])"
   ]
  },
  {
   "cell_type": "markdown",
   "metadata": {},
   "source": [
    "With the new Test2 data, we can no longer reject the null hypothesis that the means are equal at p=0.05.  \n",
    "That is quite a change by adding 2 outlier data points that are slightly higher than the max of Test2!\n",
    "\n",
    "Now, let's examine the Bayesian stats instead."
   ]
  },
  {
   "cell_type": "code",
   "execution_count": 35,
   "metadata": {},
   "outputs": [
    {
     "data": {
      "image/png": "[encoded data removed]",
      "text/plain": [
       "<Figure size 720x432 with 1 Axes>"
      ]
     },
     "metadata": {
      "needs_background": "light"
     },
     "output_type": "display_data"
    }
   ],
   "source": [
    "plot_posterior_side_by_side(post_conversion_a, post_conversion_b, 'Control & Test Samples')"
   ]
  },
  {
   "cell_type": "code",
   "execution_count": 36,
   "metadata": {},
   "outputs": [
    {
     "data": {
      "image/png": "[encoded data removed]",
      "text/plain": [
       "<Figure size 720x432 with 1 Axes>"
      ]
     },
     "metadata": {
      "needs_background": "light"
     },
     "output_type": "display_data"
    }
   ],
   "source": [
    "plot_posterior_side_by_side(post_conversion_a2, post_conversion_b2, 'Control & Test2 Samples')"
   ]
  },
  {
   "cell_type": "code",
   "execution_count": 37,
   "metadata": {},
   "outputs": [
    {
     "data": {
      "image/png": "[encoded data removed]",
      "text/plain": [
       "<Figure size 720x360 with 1 Axes>"
      ]
     },
     "metadata": {
      "needs_background": "light"
     },
     "output_type": "display_data"
    }
   ],
   "source": [
    "ax = az.plot_posterior(trace, var_names = ['conv_lift'], kind='hist', \n",
    "                  hdi_prob = 0.95, ref_val=0, textsize = 16, figsize=(10, 5))\n",
    "\n",
    "ax.set_title('Control Mean - Test Mean')\n",
    "plt.show()"
   ]
  },
  {
   "cell_type": "code",
   "execution_count": 38,
   "metadata": {},
   "outputs": [
    {
     "data": {
      "image/png": "[encoded data removed]",
      "text/plain": [
       "<Figure size 720x360 with 1 Axes>"
      ]
     },
     "metadata": {
      "needs_background": "light"
     },
     "output_type": "display_data"
    }
   ],
   "source": [
    "ax = az.plot_posterior(trace2, var_names = ['conv_lift'], kind='hist', \n",
    "                  hdi_prob = 0.95, ref_val=0, textsize = 16, figsize=(10, 5))\n",
    "\n",
    "ax.set_title('Control Mean - Test2 Mean (with 2 outliers)')\n",
    "plt.show()"
   ]
  },
  {
   "cell_type": "markdown",
   "metadata": {},
   "source": [
    "### Bayesian Statistics\n",
    "<a id=\"bayesian_stat_conclusion\"></a>\n",
    "With Bayesian sampling, the original (control mean - test mean) > 0 with a very high probability. \n",
    "The difference in means is at around 2.5 with the a credible interval betwen 1.6 to 3.4\n",
    "\n",
    "With the 2 outlier data points added, the Bayesian sampling continues to give \n",
    "(control mean - test mean) > 0 with a \n",
    "high probablity.  However, the difference is means is lower at at around 1.7 with a credible interval between 0.82 to 2.6.\n",
    "\n",
    "We know the average (e.g. arithmetic mean) and standard deviation can be somewhat sensitive to outliers especially \n",
    "with smaller sample sizes.  In this case, I know that we cannot use t-stats because the generated data is not normally distributed. Check out the other notebook to test whether the data violates the normally distributed assumption.\n",
    "\n",
    "From this perspective, Bayesian sampling gives a more robust result which does not require a data distribution assumption amongst other things.  "
   ]
  }
 ],
 "metadata": {
  "celltoolbar": "Slideshow",
  "kernelspec": {
   "display_name": "bayes",
   "language": "python",
   "name": "bayes"
  },
  "language_info": {
   "codemirror_mode": {
    "name": "ipython",
    "version": 3
   },
   "file_extension": ".py",
   "mimetype": "text/x-python",
   "name": "python",
   "nbconvert_exporter": "python",
   "pygments_lexer": "ipython3",
   "version": "3.10.4"
  }
 },
 "nbformat": 4,
 "nbformat_minor": 4
}
