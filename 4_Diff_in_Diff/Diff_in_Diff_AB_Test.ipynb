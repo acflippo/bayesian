{
 "cells": [
  {
   "cell_type": "markdown",
   "metadata": {
    "slideshow": {
     "slide_type": "slide"
    }
   },
   "source": [
    "# Difference in Differences: A/B Test using Bayesian Statistics"
   ]
  },
  {
   "cell_type": "code",
   "execution_count": 39,
   "metadata": {
    "slideshow": {
     "slide_type": "skip"
    }
   },
   "outputs": [],
   "source": [
    "import numpy as np\n",
    "import scipy.stats as sps\n",
    "import matplotlib.pyplot as plt\n",
    "import matplotlib.ticker as mtick\n",
    "from patsy import dmatrices\n",
    "import statsmodels.api as sm\n",
    "\n",
    "import pymc as pm\n",
    "import arviz as az\n",
    "import numpy\n",
    "import pymc\n",
    "import pandas as pd"
   ]
  },
  {
   "cell_type": "markdown",
   "metadata": {
    "slideshow": {
     "slide_type": "slide"
    }
   },
   "source": [
    "# Website data for control & variant of the site\n",
    "\n",
    "Suppose we perform an A/B test on a group of users.  A control period (before the variant was introduced) is compared with the test period (with the variant).  However, in some businesses that might experience a natural increase or decrease in \"conversion\" in a specific period due to the nature of their business.\n",
    "\n",
    "Imagine a backpack manufacturer that is performing a variant of their website to help convert more site visitors to buy their backpacks.  Due to their nature of their business, they normally see more purchases in the month before students return to school for their start of another academic year.  How will such a manufacturer measure their campaign effectivenss say in August?  I can perform a Difference-in-Differences (__Diff-in-Diff__) test.\n",
    "\n",
    "The concept is simple.  In the natural state of being, I see a \"lift\" from period A to B for everyone (i.e. back-to-school time).  In the same periods for the treatment group of users, I might see an extra \"lift\" from period A to B. I __subtract__ the difference for treatment group of users from the \"natural state of being\" users (i.e. everyone else) thus the name [Difference in Differences](https://en.wikipedia.org/wiki/Difference_in_differences) methodology.\n",
    "\n",
    "Note, the following terminology:\n",
    "\n",
    "- __control period__ : the time period before the variant was introduced\n",
    "- __test period__: the time period when the variant was introduced\n",
    "\n",
    "- __control users__ : users that will not experience the variant in both control and test periods.\n",
    "- __treatment users__: users that will experience the variant during the test period.\n",
    "\n",
    "\n",
    "The hypothesis is:\n",
    "\n",
    "&emsp; $H_{0}$: With the variant, there is no change in Diff-in-Diff\n",
    "\n",
    "&emsp; $H_{1}$: With the variant, we see a change by x% in Diff-in-Diff"
   ]
  },
  {
   "cell_type": "markdown",
   "metadata": {},
   "source": [
    "[<img src=\"../image/Difference_in_Differences.png\" width=\"300\"/>](../image/Difference_in_Differences.png)"
   ]
  },
  {
   "cell_type": "markdown",
   "metadata": {},
   "source": [
    "The above figure shows how the treatment users went from P1 (before the variant at Time 1) to P2 (after the variant at Time 2) while everyone else went from S1 (Time 1) to S2 (Time 2).  One might argue that without the variant, the treatment users should have ended up at point Q but instead P2 measurement is observed.  The difference between P2 and Q is the Diff-in-Diff measurement.\n",
    "\n",
    "I use the term conversion rate in a broad sense which is behavior that is binary (i.e. buy or not buy, clicked or not clicked, filled out a lead form or not, watched a movie trailer or not, etc.).  With this in mind, there will be 4 datasets needed to perform Diff-in-Diff Bayesian statistics.\n",
    "\n",
    "# Content\n",
    "\n",
    "1. [Read Data](#read_data)\n",
    "2. [Frequentist Test](#frequentist_test)\n",
    "3. [Diff-in-Diff: Beta Prior](#test_2)\n",
    "4. [Diff-in-Diff: LogNormal Prior](#test_3)\n",
    "5. [Diff-in-Diff: Linear Regression](#test_4)\n",
    "5. [Conclusion](#conclusion)"
   ]
  },
  {
   "cell_type": "markdown",
   "metadata": {
    "slideshow": {
     "slide_type": "slide"
    }
   },
   "source": [
    "## 1. Read data\n",
    "<a id=\"read_data\"></a>\n",
    "\n",
    "This is simulated data to illustrate on how to use Bayesian Statistics to perform a Diff-in-Diff test."
   ]
  },
  {
   "cell_type": "code",
   "execution_count": 2,
   "metadata": {
    "slideshow": {
     "slide_type": "subslide"
    }
   },
   "outputs": [
    {
     "data": {
      "text/plain": [
       "array([0, 0, 0, 0, 1])"
      ]
     },
     "execution_count": 2,
     "metadata": {},
     "output_type": "execute_result"
    }
   ],
   "source": [
    "df_treat_user_ctrl_period = pd.read_csv('../data/binary_sample_1.csv')\n",
    "treat_user_ctrl_period    = df_treat_user_ctrl_period['converted'].to_numpy()\n",
    "treat_user_ctrl_period[0:5]"
   ]
  },
  {
   "cell_type": "code",
   "execution_count": 3,
   "metadata": {
    "slideshow": {
     "slide_type": "subslide"
    }
   },
   "outputs": [
    {
     "data": {
      "text/plain": [
       "array([0, 0, 1, 0, 0])"
      ]
     },
     "execution_count": 3,
     "metadata": {},
     "output_type": "execute_result"
    }
   ],
   "source": [
    "df_treat_user_test_period = pd.read_csv('../data/binary_sample_2.csv')\n",
    "treat_user_test_period    = df_treat_user_test_period['converted'].to_numpy()\n",
    "treat_user_test_period[0:5]"
   ]
  },
  {
   "cell_type": "code",
   "execution_count": 4,
   "metadata": {},
   "outputs": [
    {
     "data": {
      "text/plain": [
       "array([0, 0, 0, 0, 0])"
      ]
     },
     "execution_count": 4,
     "metadata": {},
     "output_type": "execute_result"
    }
   ],
   "source": [
    "df_ctrl_user_ctrl_period = pd.read_csv('../data/binary_sample_3.csv')\n",
    "ctrl_user_ctrl_period    = df_ctrl_user_ctrl_period['converted'].to_numpy()\n",
    "ctrl_user_ctrl_period[0:5]"
   ]
  },
  {
   "cell_type": "code",
   "execution_count": 5,
   "metadata": {},
   "outputs": [
    {
     "data": {
      "text/plain": [
       "array([0, 0, 0, 0, 0])"
      ]
     },
     "execution_count": 5,
     "metadata": {},
     "output_type": "execute_result"
    }
   ],
   "source": [
    "df_ctrl_user_test_period = pd.read_csv('../data/binary_sample_4.csv')\n",
    "ctrl_user_test_period    = df_ctrl_user_test_period['converted'].to_numpy()\n",
    "ctrl_user_test_period[0:5]"
   ]
  },
  {
   "cell_type": "code",
   "execution_count": 6,
   "metadata": {},
   "outputs": [
    {
     "name": "stdout",
     "output_type": "stream",
     "text": [
      "Common Sense Check\n",
      "Control Users:\n",
      "   Control Period:  mean =   0.123932  std dev =   0.329504\n",
      "   Test Period   :  mean =   0.138889  std dev =   0.345831\n",
      "Treatment Users:\n",
      "   Control Period:  mean =   0.109170  std dev =   0.311853\n",
      "   Test Period   :  mean =   0.162630  std dev =   0.369028\n"
     ]
    }
   ],
   "source": [
    "# Common Sense Check\n",
    "print(\"Common Sense Check\")\n",
    "print(\"Control Users:\")\n",
    "print(\"   Control Period:  mean = %10.6f  std dev = %10.6f\" % (ctrl_user_ctrl_period.mean(), ctrl_user_ctrl_period.std()))\n",
    "print(\"   Test Period   :  mean = %10.6f  std dev = %10.6f\" % (ctrl_user_test_period.mean(), ctrl_user_test_period.std()))\n",
    "print(\"Treatment Users:\")\n",
    "print(\"   Control Period:  mean = %10.6f  std dev = %10.6f\" % (treat_user_ctrl_period.mean(), treat_user_ctrl_period.std()))\n",
    "print(\"   Test Period   :  mean = %10.6f  std dev = %10.6f\" % (treat_user_test_period.mean(), treat_user_test_period.std()))"
   ]
  },
  {
   "cell_type": "code",
   "execution_count": 7,
   "metadata": {},
   "outputs": [],
   "source": [
    "def plot_posterior_side_by_side(conv_a, conv_b, graph_title):\n",
    "    plt.figure(figsize=(10, 6))\n",
    "\n",
    "    # plt.subplot(1, 2, 1)\n",
    "    plt.hist(conv_a, bins=35, histtype='stepfilled', \n",
    "    color='#da6d75', label='Conversion : Control',alpha=0.5)\n",
    "    plt.legend()\n",
    "\n",
    "    plt.hist(conv_b, bins=35, histtype='stepfilled',\n",
    "    color='#52c4a8', label='Conversion : Treatment',alpha=0.5)\n",
    "\n",
    "    plt.title(graph_title)\n",
    "    plt.legend()\n",
    "\n",
    "    plt.show()"
   ]
  },
  {
   "cell_type": "code",
   "execution_count": 8,
   "metadata": {},
   "outputs": [],
   "source": [
    "def t_test_6_ways(data_a, data_b):\n",
    "    \n",
    "    # Assume the variance of the 2 datasets are equal: 2-tail test\n",
    "    print('Difference in means T-Tests')\n",
    "    print('   Equal Var & Two Sided:', sps.ttest_ind(a=data_a, b=data_b, equal_var=True, alternative=\"two-sided\"))\n",
    "\n",
    "    #   1-tail test less than\n",
    "    print('   Equal Var & A < B    :', sps.ttest_ind(a=data_a, b=data_b, equal_var=True, alternative=\"less\"))\n",
    "    \n",
    "    #   1-tail test greater than\n",
    "    print('   Equal Var & A > B    :', sps.ttest_ind(a=data_a, b=data_b, equal_var=True, alternative=\"greater\"), '\\n')\n",
    "    \n",
    "    # Assume the variance of the 2 datasets are NOT equal: 2-tail test\n",
    "    print('   Not-Equal Var & Two Sided:', sps.ttest_ind(a=data_a, b=data_b, equal_var=False, alternative=\"two-sided\"))\n",
    "\n",
    "    #   1-tail test less than\n",
    "    print('   Not-Equal Var & A < B    :', sps.ttest_ind(a=data_a, b=data_b, equal_var=False, alternative=\"less\"))\n",
    "    \n",
    "    #   1-tail test greater than\n",
    "    print('   Not-Equal Var & A > B    :', sps.ttest_ind(a=data_a, b=data_b, equal_var=False, alternative=\"greater\"))"
   ]
  },
  {
   "cell_type": "markdown",
   "metadata": {},
   "source": [
    "# Frequentist Tests\n",
    "<a id=\"frequentist_test\"></a>\n",
    "Using our standard t-tests to determine if the mean of the revenue lift is different or less than (control < treatment) per our equal variance and two-sided/one-sided tests, we get:"
   ]
  },
  {
   "cell_type": "code",
   "execution_count": 9,
   "metadata": {},
   "outputs": [
    {
     "name": "stdout",
     "output_type": "stream",
     "text": [
      "Difference in means T-Tests\n",
      "   Equal Var & Two Sided: Ttest_indResult(statistic=-0.5132563552112679, pvalue=0.6079758852688883)\n",
      "   Equal Var & A < B    : Ttest_indResult(statistic=-0.5132563552112679, pvalue=0.3039879426344442)\n",
      "   Equal Var & A > B    : Ttest_indResult(statistic=-0.5132563552112679, pvalue=0.6960120573655559) \n",
      "\n",
      "   Not-Equal Var & Two Sided: Ttest_indResult(statistic=-0.5172300183296171, pvalue=0.6052174200258286)\n",
      "   Not-Equal Var & A < B    : Ttest_indResult(statistic=-0.5172300183296171, pvalue=0.3026087100129143)\n",
      "   Not-Equal Var & A > B    : Ttest_indResult(statistic=-0.5172300183296171, pvalue=0.6973912899870858)\n"
     ]
    }
   ],
   "source": [
    "# Control users in both periods\n",
    "t_test_6_ways(ctrl_user_ctrl_period, ctrl_user_test_period)"
   ]
  },
  {
   "cell_type": "code",
   "execution_count": 10,
   "metadata": {},
   "outputs": [
    {
     "name": "stdout",
     "output_type": "stream",
     "text": [
      "Difference in means T-Tests\n",
      "   Equal Var & Two Sided: Ttest_indResult(statistic=-1.748497908186263, pvalue=0.08097251021965225)\n",
      "   Equal Var & A < B    : Ttest_indResult(statistic=-1.748497908186263, pvalue=0.040486255109826126)\n",
      "   Equal Var & A > B    : Ttest_indResult(statistic=-1.748497908186263, pvalue=0.9595137448901739) \n",
      "\n",
      "   Not-Equal Var & Two Sided: Ttest_indResult(statistic=-1.7825796727653367, pvalue=0.07524508753202636)\n",
      "   Not-Equal Var & A < B    : Ttest_indResult(statistic=-1.7825796727653367, pvalue=0.03762254376601318)\n",
      "   Not-Equal Var & A > B    : Ttest_indResult(statistic=-1.7825796727653367, pvalue=0.9623774562339868)\n"
     ]
    }
   ],
   "source": [
    "# Treatment users in both periods\n",
    "t_test_6_ways(treat_user_ctrl_period, treat_user_test_period)"
   ]
  },
  {
   "cell_type": "markdown",
   "metadata": {},
   "source": [
    "## Conversion Table\n",
    "\n",
    "Looking at the conversion table for the four groups of observations, we see there is a lift in treatment users over control users using the same comparison periods broadly speaking.  If the sample size is small, we might get this lift by chance.  But, we can get a credible interval for the lift for the treatment in the control period using Bayesian method first then let's repeat the process using Linear Regression. \n",
    "\n",
    "| | Control Period | Test Period | Difference |\n",
    "| --------------- | ------------ | ----------- | ---------- |\n",
    "| Control Users | 12.4% | 13.9%| 1.5% |\n",
    "| Treatment Users | 10.9% | 16.3% | 5.4 %|\n",
    "| Diff in Differences | | | 3.9% | \n",
    "\n"
   ]
  },
  {
   "cell_type": "markdown",
   "metadata": {},
   "source": [
    "## Build a model\n",
    "\n",
    "Distribution Explorer https://distribution-explorer.github.io"
   ]
  },
  {
   "cell_type": "markdown",
   "metadata": {},
   "source": [
    "## 2: Diff-in-Diff: Beta Prior\n",
    "<a id=\"test_2\"></a>"
   ]
  },
  {
   "cell_type": "code",
   "execution_count": 11,
   "metadata": {},
   "outputs": [
    {
     "name": "stderr",
     "output_type": "stream",
     "text": [
      "Auto-assigning NUTS sampler...\n",
      "Initializing NUTS using jitter+adapt_diag...\n",
      "Multiprocess sampling (4 chains in 4 jobs)\n",
      "NUTS: [ctrl_user_rate_A, ctrl_user_rate_B, treat_user_rate_C, treat_user_rate_D]\n"
     ]
    },
    {
     "data": {
      "text/html": [
       "\n",
       "<style>\n",
       "    /* Turns off some styling */\n",
       "    progress {\n",
       "        /* gets rid of default border in Firefox and Opera. */\n",
       "        border: none;\n",
       "        /* Needs to be in here for Safari polyfill so background images work as expected. */\n",
       "        background-size: auto;\n",
       "    }\n",
       "    .progress-bar-interrupted, .progress-bar-interrupted::-webkit-progress-bar {\n",
       "        background: #F44336;\n",
       "    }\n",
       "</style>\n"
      ],
      "text/plain": [
       "<IPython.core.display.HTML object>"
      ]
     },
     "metadata": {},
     "output_type": "display_data"
    },
    {
     "data": {
      "text/html": [
       "\n",
       "    <div>\n",
       "      <progress value='8000' class='' max='8000' style='width:300px; height:20px; vertical-align: middle;'></progress>\n",
       "      100.00% [8000/8000 00:03<00:00 Sampling 4 chains, 0 divergences]\n",
       "    </div>\n",
       "    "
      ],
      "text/plain": [
       "<IPython.core.display.HTML object>"
      ]
     },
     "metadata": {},
     "output_type": "display_data"
    },
    {
     "name": "stderr",
     "output_type": "stream",
     "text": [
      "Sampling 4 chains for 1_000 tune and 1_000 draw iterations (4_000 + 4_000 draws total) took 53 seconds.\n"
     ]
    }
   ],
   "source": [
    "with pm.Model() as did_model:\n",
    "\n",
    "    # parameter we want to infer with PRIOR\n",
    "    rate_prior_A  = pm.Beta(\"ctrl_user_rate_A\",  1, 10) # control   user ctrl period\n",
    "    rate_prior_B  = pm.Beta(\"ctrl_user_rate_B\",  1, 10) # control   user test period\n",
    "    rate_prior_C  = pm.Beta(\"treat_user_rate_C\", 1, 10) # treatment user ctrl period\n",
    "    rate_prior_D  = pm.Beta(\"treat_user_rate_D\", 1, 10) # treatment user test period\n",
    "    \n",
    "    # likelihood of observing data given parameter\n",
    "    how_likely_A = pm.Bernoulli(\"likelihood_A\", p=rate_prior_A, observed=ctrl_user_ctrl_period)\n",
    "    how_likely_B = pm.Bernoulli(\"likelihood_B\", p=rate_prior_B, observed=ctrl_user_test_period)\n",
    "    how_likely_C = pm.Bernoulli(\"likelihood_C\", p=rate_prior_C, observed=treat_user_ctrl_period)\n",
    "    how_likely_D = pm.Bernoulli(\"likelihood_D\", p=rate_prior_D, observed=treat_user_test_period)\n",
    "    \n",
    "    # POSTERIORS\n",
    "    conv_a = pm.Deterministic('conversion_A', rate_prior_A)\n",
    "    conv_b = pm.Deterministic('conversion_B', rate_prior_B)\n",
    "    conv_c = pm.Deterministic('conversion_C', rate_prior_C)\n",
    "    conv_d = pm.Deterministic('conversion_D', rate_prior_D)\n",
    "    \n",
    "    # Calculate lift difference\n",
    "    pm.Deterministic('conv_lift_ctrl_users',  conv_a - conv_b) \n",
    "    pm.Deterministic('conv_lift_treat_users', conv_c - conv_d) \n",
    "    \n",
    "    # Difference in Differences\n",
    "    # DiD = (conv_a - conv_b) - (conv_c - conv_d)\n",
    "    pm.Deterministic('conv_lift_diff_in_diff', (conv_a - conv_b) - (conv_c - conv_d))\n",
    "    \n",
    "    # Hit the magical inference button\n",
    "    trace = pm.sample()"
   ]
  },
  {
   "cell_type": "code",
   "execution_count": 12,
   "metadata": {},
   "outputs": [
    {
     "name": "stdout",
     "output_type": "stream",
     "text": [
      "Control users:    [0.09251703 0.09486843 0.15406295 0.15743737 0.11136572] [0.12100761 0.11598382 0.15473035 0.17451848 0.11549823]\n",
      "Treatment users:  [0.08706639 0.12878599 0.1158496  0.11310881 0.10009781] [0.13063315 0.13584606 0.15199537 0.15164299 0.1703464 ]\n",
      "\n",
      "\n",
      "Control users lift      :  [-0.02849057 -0.02111539 -0.0006674  -0.01708111 -0.00413251]\n",
      "Treatment users lift    :  [-0.04356676 -0.00706007 -0.03614577 -0.03853417 -0.07024859]\n",
      "Diff in Differences lift:  [ 0.01507619 -0.01405533  0.03547837  0.02145306  0.06611608]\n"
     ]
    }
   ],
   "source": [
    "# Posterior Predictive Values\n",
    "post_conversion_a1 = trace.posterior.stack(draws=(\"chain\", \"draw\"))[\"conversion_A\"].values \n",
    "post_conversion_b1 = trace.posterior.stack(draws=(\"chain\", \"draw\"))[\"conversion_B\"].values\n",
    "post_conversion_c1 = trace.posterior.stack(draws=(\"chain\", \"draw\"))[\"conversion_C\"].values \n",
    "post_conversion_d1 = trace.posterior.stack(draws=(\"chain\", \"draw\"))[\"conversion_D\"].values\n",
    "\n",
    "print(\"Control users:   \", post_conversion_a1[0:5], post_conversion_b1[0:5])\n",
    "print(\"Treatment users: \", post_conversion_c1[0:5], post_conversion_d1[0:5])\n",
    "\n",
    "# Relative Lift\n",
    "conversion_lift_ctrl_users1 = trace.posterior.stack(draws=(\"chain\", \"draw\"))[\"conv_lift_ctrl_users\"].values\n",
    "conversion_lift_treat_users1 = trace.posterior.stack(draws=(\"chain\", \"draw\"))[\"conv_lift_treat_users\"].values\n",
    "diff_in_diff1 = trace.posterior.stack(draws=(\"chain\", \"draw\"))[\"conv_lift_diff_in_diff\"].values\n",
    "\n",
    "print(\"\\n\")\n",
    "print(\"Control users lift      : \", conversion_lift_ctrl_users1[0:5])\n",
    "print(\"Treatment users lift    : \", conversion_lift_treat_users1[0:5])\n",
    "print(\"Diff in Differences lift: \", diff_in_diff1[0:5])"
   ]
  },
  {
   "cell_type": "code",
   "execution_count": 13,
   "metadata": {},
   "outputs": [
    {
     "data": {
      "image/png": "[encoded data removed]",
      "text/plain": [
       "<Figure size 720x432 with 1 Axes>"
      ]
     },
     "metadata": {
      "needs_background": "light"
     },
     "output_type": "display_data"
    }
   ],
   "source": [
    "plot_posterior_side_by_side(post_conversion_a1, post_conversion_b1, \n",
    "                            'Control Users: Control & Test Periods (Beta Prior)')"
   ]
  },
  {
   "cell_type": "code",
   "execution_count": 14,
   "metadata": {},
   "outputs": [
    {
     "data": {
      "image/png": "[encoded data removed]",
      "text/plain": [
       "<Figure size 720x432 with 1 Axes>"
      ]
     },
     "metadata": {
      "needs_background": "light"
     },
     "output_type": "display_data"
    }
   ],
   "source": [
    "plot_posterior_side_by_side(post_conversion_c1, post_conversion_d1, \n",
    "                            'Treatment Users: Control & Test Periods (Beta Prior)')"
   ]
  },
  {
   "cell_type": "code",
   "execution_count": 15,
   "metadata": {},
   "outputs": [
    {
     "data": {
      "image/png": "[encoded data removed]",
      "text/plain": [
       "<Figure size 720x360 with 1 Axes>"
      ]
     },
     "metadata": {
      "needs_background": "light"
     },
     "output_type": "display_data"
    }
   ],
   "source": [
    "ax = az.plot_posterior(trace, var_names = ['conv_lift_diff_in_diff'], kind='hist', \n",
    "                  hdi_prob = 0.95, ref_val=0, textsize = 16, figsize=(10, 5))\n",
    "\n",
    "ax.set_title('Diff-in-Diff Conversion Lift (Beta Prior)')\n",
    "plt.show()"
   ]
  },
  {
   "cell_type": "code",
   "execution_count": 17,
   "metadata": {},
   "outputs": [
    {
     "name": "stdout",
     "output_type": "stream",
     "text": [
      "Controlling for Seasonality (Beta Prior)\n",
      "   Probability of Conversion Lift (treatment users > control users) = 0.813500\n"
     ]
    }
   ],
   "source": [
    "print('Controlling for Seasonality (Beta Prior)')\n",
    "print('   Probability of Conversion Lift (treatment users > control users) = %.6f' % ((diff_in_diff1 > 0).mean()))"
   ]
  },
  {
   "cell_type": "code",
   "execution_count": 19,
   "metadata": {},
   "outputs": [
    {
     "name": "stdout",
     "output_type": "stream",
     "text": [
      "Posterior Mean & Variance: Control Users\n",
      "   Control (A):  mean =   0.122441  std dev =   0.020890\n",
      "   Test    (B):  mean =   0.137361  std dev =   0.019081\n",
      "\n",
      "Posterior Mean & Variance: Treatment Users\n",
      "   Control (A):  mean =   0.108466  std dev =   0.019982\n",
      "   Test    (B):  mean =   0.160031  std dev =   0.020842\n"
     ]
    }
   ],
   "source": [
    "# Posterior Mean & Variance\n",
    "print(\"Posterior Mean & Variance: Control Users\")\n",
    "print(\"   Control (A):  mean = %10.6f  std dev = %10.6f\" % (post_conversion_a1.mean(), post_conversion_a1.std()))\n",
    "print(\"   Test    (B):  mean = %10.6f  std dev = %10.6f\" % (post_conversion_b1.mean(), post_conversion_b1.std()))\n",
    "\n",
    "print(\"\\nPosterior Mean & Variance: Treatment Users\")\n",
    "print(\"   Control (A):  mean = %10.6f  std dev = %10.6f\" % (post_conversion_c1.mean(), post_conversion_c1.std()))\n",
    "print(\"   Test    (B):  mean = %10.6f  std dev = %10.6f\" % (post_conversion_d1.mean(), post_conversion_d1.std()))"
   ]
  },
  {
   "cell_type": "code",
   "execution_count": null,
   "metadata": {},
   "outputs": [],
   "source": []
  },
  {
   "cell_type": "markdown",
   "metadata": {},
   "source": [
    "## 3. Diff-in-Diff : LogNormal Prior\n",
    "<a id=\"test_3\"></a>"
   ]
  },
  {
   "cell_type": "code",
   "execution_count": 20,
   "metadata": {},
   "outputs": [
    {
     "name": "stderr",
     "output_type": "stream",
     "text": [
      "Auto-assigning NUTS sampler...\n",
      "Initializing NUTS using jitter+adapt_diag...\n",
      "Multiprocess sampling (4 chains in 4 jobs)\n",
      "NUTS: [ctrl_user_rate_A, ctrl_user_rate_B, treat_user_rate_C, treat_user_rate_D]\n"
     ]
    },
    {
     "data": {
      "text/html": [
       "\n",
       "<style>\n",
       "    /* Turns off some styling */\n",
       "    progress {\n",
       "        /* gets rid of default border in Firefox and Opera. */\n",
       "        border: none;\n",
       "        /* Needs to be in here for Safari polyfill so background images work as expected. */\n",
       "        background-size: auto;\n",
       "    }\n",
       "    .progress-bar-interrupted, .progress-bar-interrupted::-webkit-progress-bar {\n",
       "        background: #F44336;\n",
       "    }\n",
       "</style>\n"
      ],
      "text/plain": [
       "<IPython.core.display.HTML object>"
      ]
     },
     "metadata": {},
     "output_type": "display_data"
    },
    {
     "data": {
      "text/html": [
       "\n",
       "    <div>\n",
       "      <progress value='8000' class='' max='8000' style='width:300px; height:20px; vertical-align: middle;'></progress>\n",
       "      100.00% [8000/8000 00:03<00:00 Sampling 4 chains, 0 divergences]\n",
       "    </div>\n",
       "    "
      ],
      "text/plain": [
       "<IPython.core.display.HTML object>"
      ]
     },
     "metadata": {},
     "output_type": "display_data"
    },
    {
     "name": "stderr",
     "output_type": "stream",
     "text": [
      "Sampling 4 chains for 1_000 tune and 1_000 draw iterations (4_000 + 4_000 draws total) took 47 seconds.\n"
     ]
    }
   ],
   "source": [
    "with pm.Model() as did_model2:\n",
    "\n",
    "    # parameter we want to infer with PRIOR\n",
    "    rate_prior_A  = pm.InverseGamma(\"ctrl_user_rate_A\",  alpha=3.0, beta=1.0) # control   user ctrl period\n",
    "    rate_prior_B  = pm.InverseGamma(\"ctrl_user_rate_B\",  alpha=3.0, beta=1.0) # control   user test period\n",
    "    rate_prior_C  = pm.InverseGamma(\"treat_user_rate_C\", alpha=3.0, beta=1.0) # treatment user ctrl period\n",
    "    rate_prior_D  = pm.InverseGamma(\"treat_user_rate_D\", alpha=3.0, beta=1.0) # treatment user test period\n",
    "    # rate_prior_A  = pm.Beta(\"ctrl_user_rate_A\",  1, 10) # control   user ctrl period\n",
    "    # rate_prior_B  = pm.Beta(\"ctrl_user_rate_B\",  1, 10) # control   user test period\n",
    "    # rate_prior_C  = pm.Beta(\"treat_user_rate_C\", 1, 10) # treatment user ctrl period\n",
    "    # rate_prior_D  = pm.Beta(\"treat_user_rate_D\", 1, 10) # treatment user test period\n",
    "    \n",
    "    # likelihood of observing data given parameter\n",
    "    how_likely_A = pm.Bernoulli(\"likelihood_A\", p=rate_prior_A, observed=ctrl_user_ctrl_period)\n",
    "    how_likely_B = pm.Bernoulli(\"likelihood_B\", p=rate_prior_B, observed=ctrl_user_test_period)\n",
    "    how_likely_C = pm.Bernoulli(\"likelihood_C\", p=rate_prior_C, observed=treat_user_ctrl_period)\n",
    "    how_likely_D = pm.Bernoulli(\"likelihood_D\", p=rate_prior_D, observed=treat_user_test_period)\n",
    "    \n",
    "    # POSTERIORS\n",
    "    conv_a = pm.Deterministic('conversion_A', rate_prior_A)\n",
    "    conv_b = pm.Deterministic('conversion_B', rate_prior_B)\n",
    "    conv_c = pm.Deterministic('conversion_C', rate_prior_C)\n",
    "    conv_d = pm.Deterministic('conversion_D', rate_prior_D)\n",
    "    \n",
    "    # Calculate lift difference\n",
    "    pm.Deterministic('conv_lift_ctrl_users',  conv_a - conv_b) \n",
    "    pm.Deterministic('conv_lift_treat_users', conv_c - conv_d) \n",
    "    \n",
    "    # Difference in Differences\n",
    "    # DiD = (conv_a - conv_b) - (conv_c - conv_d) \n",
    "    pm.Deterministic('conv_lift_diff_in_diff', (conv_a - conv_b) - (conv_c - conv_d))\n",
    "    \n",
    "    # Hit the magical inference button\n",
    "    trace2 = pm.sample()"
   ]
  },
  {
   "cell_type": "code",
   "execution_count": null,
   "metadata": {},
   "outputs": [],
   "source": []
  },
  {
   "cell_type": "code",
   "execution_count": 21,
   "metadata": {},
   "outputs": [
    {
     "name": "stdout",
     "output_type": "stream",
     "text": [
      "Control users:    [0.08970777 0.1378386  0.15956659 0.1347647  0.11926093] [0.12778039 0.1979913  0.1271213  0.12648839 0.16048873]\n",
      "Treatment users:  [0.18308005 0.1019521  0.16677501 0.1242551  0.13663355] [0.17121985 0.16998125 0.16206233 0.12729033 0.16618606]\n",
      "\n",
      "\n",
      "Control users lift      :  [-0.03807262 -0.0601527   0.03244528  0.00827631 -0.04122779]\n",
      "Treatment users lift    :  [ 0.01186021 -0.06802915  0.00471268 -0.00303523 -0.02955251]\n",
      "Diff in Differences lift:  [-0.04993283  0.00787645  0.02773261  0.01131154 -0.01167529]\n"
     ]
    }
   ],
   "source": [
    "# Posterior Predictive Values\n",
    "post_conversion_a2 = trace2.posterior.stack(draws=(\"chain\", \"draw\"))[\"conversion_A\"].values \n",
    "post_conversion_b2 = trace2.posterior.stack(draws=(\"chain\", \"draw\"))[\"conversion_B\"].values\n",
    "post_conversion_c2 = trace2.posterior.stack(draws=(\"chain\", \"draw\"))[\"conversion_C\"].values \n",
    "post_conversion_d2 = trace2.posterior.stack(draws=(\"chain\", \"draw\"))[\"conversion_D\"].values\n",
    "\n",
    "print(\"Control users:   \", post_conversion_a2[0:5], post_conversion_b2[0:5])\n",
    "print(\"Treatment users: \", post_conversion_c2[0:5], post_conversion_d2[0:5])\n",
    "\n",
    "# Relative Lift\n",
    "conversion_lift_ctrl_users2 = trace2.posterior.stack(draws=(\"chain\", \"draw\"))[\"conv_lift_ctrl_users\"].values\n",
    "conversion_lift_treat_users2 = trace2.posterior.stack(draws=(\"chain\", \"draw\"))[\"conv_lift_treat_users\"].values\n",
    "diff_in_diff2 = trace2.posterior.stack(draws=(\"chain\", \"draw\"))[\"conv_lift_diff_in_diff\"].values\n",
    "\n",
    "print(\"\\n\")\n",
    "print(\"Control users lift      : \", conversion_lift_ctrl_users2[0:5])\n",
    "print(\"Treatment users lift    : \", conversion_lift_treat_users2[0:5])\n",
    "print(\"Diff in Differences lift: \", diff_in_diff2[0:5])"
   ]
  },
  {
   "cell_type": "code",
   "execution_count": 22,
   "metadata": {},
   "outputs": [
    {
     "data": {
      "image/png": "[encoded data removed]",
      "text/plain": [
       "<Figure size 720x432 with 1 Axes>"
      ]
     },
     "metadata": {
      "needs_background": "light"
     },
     "output_type": "display_data"
    }
   ],
   "source": [
    "plot_posterior_side_by_side(post_conversion_a2, post_conversion_b2, \n",
    "                            'Control Users: Control & Test Periods (InvGamma Prior)')"
   ]
  },
  {
   "cell_type": "code",
   "execution_count": 23,
   "metadata": {},
   "outputs": [
    {
     "data": {
      "image/png": "[encoded data removed]",
      "text/plain": [
       "<Figure size 720x432 with 1 Axes>"
      ]
     },
     "metadata": {
      "needs_background": "light"
     },
     "output_type": "display_data"
    }
   ],
   "source": [
    "plot_posterior_side_by_side(post_conversion_c2, post_conversion_d2, \n",
    "                            'Treatment Users: Control & Test Periods (InvGamma Prior)')"
   ]
  },
  {
   "cell_type": "code",
   "execution_count": 24,
   "metadata": {},
   "outputs": [
    {
     "data": {
      "image/png": "[encoded data removed]",
      "text/plain": [
       "<Figure size 720x360 with 1 Axes>"
      ]
     },
     "metadata": {
      "needs_background": "light"
     },
     "output_type": "display_data"
    }
   ],
   "source": [
    "ax = az.plot_posterior(trace2, var_names = ['conv_lift_diff_in_diff'], kind='hist', \n",
    "                  hdi_prob = 0.95, ref_val=0, textsize = 16, figsize=(10, 5))\n",
    "\n",
    "ax.set_title('Diff-in-Diff Conversion Lift: InvGamma Prior')\n",
    "plt.show()"
   ]
  },
  {
   "cell_type": "code",
   "execution_count": 25,
   "metadata": {},
   "outputs": [
    {
     "name": "stdout",
     "output_type": "stream",
     "text": [
      "Controlling for Seasonality (Beta Prior)\n",
      "   Probability of Conversion Lift (treatment users > control users) = 0.801750\n"
     ]
    }
   ],
   "source": [
    "print('Controlling for Seasonality (Beta Prior)')\n",
    "print('   Probability of Conversion Lift (treatment users > control users) = %.6f' % ((diff_in_diff2 > 0).mean()))"
   ]
  },
  {
   "cell_type": "code",
   "execution_count": 26,
   "metadata": {},
   "outputs": [
    {
     "name": "stdout",
     "output_type": "stream",
     "text": [
      "Posterior Mean & Variance: Control Users\n",
      "   Control (A):  mean =   0.122441  std dev =   0.020890\n",
      "   Test    (B):  mean =   0.137361  std dev =   0.019081\n",
      "\n",
      "Posterior Mean & Variance: Treatment Users\n",
      "   Control (A):  mean =   0.108466  std dev =   0.019982\n",
      "   Test    (B):  mean =   0.160031  std dev =   0.020842\n"
     ]
    }
   ],
   "source": [
    "# Posterior Mean & Variance\n",
    "print(\"Posterior Mean & Variance: Control Users\")\n",
    "print(\"   Control (A):  mean = %10.6f  std dev = %10.6f\" % (post_conversion_a1.mean(), post_conversion_a1.std()))\n",
    "print(\"   Test    (B):  mean = %10.6f  std dev = %10.6f\" % (post_conversion_b1.mean(), post_conversion_b1.std()))\n",
    "\n",
    "print(\"\\nPosterior Mean & Variance: Treatment Users\")\n",
    "print(\"   Control (A):  mean = %10.6f  std dev = %10.6f\" % (post_conversion_c1.mean(), post_conversion_c1.std()))\n",
    "print(\"   Test    (B):  mean = %10.6f  std dev = %10.6f\" % (post_conversion_d1.mean(), post_conversion_d1.std()))"
   ]
  },
  {
   "cell_type": "code",
   "execution_count": 34,
   "metadata": {},
   "outputs": [],
   "source": []
  },
  {
   "cell_type": "markdown",
   "metadata": {},
   "source": [
    "## Diff-in-Diff Linear Regression\n",
    "<a id=\"test_4\"></a>\n",
    "A frequentist approach to measuring the effect of Diff-in-Diff is to run a linear regression against the group of users against the two periods and the interaction term of the treatment users in the test periods.  First, I will encode the following 2 variables:\n",
    "\n",
    "- is_treat_user: 1 if it is a treatment user, 0 otherwise\n",
    "- is_test_period: 1 if it is in a test period, 0 otherwise\n",
    "\n",
    "For read more on Diff-in-Diff, here are some references: \n",
    "- https://mixtape.scunning.com/09-difference_in_differences\n",
    "- https://medium.com/bukalapak-data/difference-in-differences-8c925e691fff\n",
    "- https://www3.nd.edu/~nmark/Climate/Diff-in-Diff.pdf"
   ]
  },
  {
   "cell_type": "code",
   "execution_count": 28,
   "metadata": {},
   "outputs": [],
   "source": [
    "# Sample A : Treatment Users in Control Period\n",
    "df_A = df_treat_user_ctrl_period\n",
    "df_A['is_treat_user'] = 1\n",
    "df_A['is_test_period'] = 0"
   ]
  },
  {
   "cell_type": "code",
   "execution_count": 29,
   "metadata": {},
   "outputs": [],
   "source": [
    "# Sample B: Treatment Users in Test Period\n",
    "df_B = df_treat_user_test_period\n",
    "df_B['is_treat_user'] = 1\n",
    "df_B['is_test_period'] = 1"
   ]
  },
  {
   "cell_type": "code",
   "execution_count": 30,
   "metadata": {},
   "outputs": [],
   "source": [
    "# Sample C: Control Users in Control Period\n",
    "df_C = df_ctrl_user_ctrl_period\n",
    "df_C['is_treat_user'] = 0\n",
    "df_C['is_test_period'] = 0"
   ]
  },
  {
   "cell_type": "code",
   "execution_count": 31,
   "metadata": {},
   "outputs": [],
   "source": [
    "# Sample D: Control Users in Test Period\n",
    "df_D = df_ctrl_user_test_period\n",
    "df_D['is_treat_user'] = 0\n",
    "df_D['is_test_period'] = 1"
   ]
  },
  {
   "cell_type": "code",
   "execution_count": 32,
   "metadata": {},
   "outputs": [],
   "source": [
    "df = pd.concat([df_A, df_B, df_C, df_D])"
   ]
  },
  {
   "cell_type": "code",
   "execution_count": 36,
   "metadata": {},
   "outputs": [
    {
     "data": {
      "text/html": [
       "<div>\n",
       "<style scoped>\n",
       "    .dataframe tbody tr th:only-of-type {\n",
       "        vertical-align: middle;\n",
       "    }\n",
       "\n",
       "    .dataframe tbody tr th {\n",
       "        vertical-align: top;\n",
       "    }\n",
       "\n",
       "    .dataframe thead th {\n",
       "        text-align: right;\n",
       "    }\n",
       "</style>\n",
       "<table border=\"1\" class=\"dataframe\">\n",
       "  <thead>\n",
       "    <tr style=\"text-align: right;\">\n",
       "      <th></th>\n",
       "      <th>converted</th>\n",
       "      <th>is_treat_user</th>\n",
       "      <th>is_test_period</th>\n",
       "    </tr>\n",
       "  </thead>\n",
       "  <tbody>\n",
       "    <tr>\n",
       "      <th>0</th>\n",
       "      <td>0</td>\n",
       "      <td>1</td>\n",
       "      <td>0</td>\n",
       "    </tr>\n",
       "    <tr>\n",
       "      <th>1</th>\n",
       "      <td>0</td>\n",
       "      <td>1</td>\n",
       "      <td>0</td>\n",
       "    </tr>\n",
       "    <tr>\n",
       "      <th>2</th>\n",
       "      <td>0</td>\n",
       "      <td>1</td>\n",
       "      <td>0</td>\n",
       "    </tr>\n",
       "    <tr>\n",
       "      <th>3</th>\n",
       "      <td>0</td>\n",
       "      <td>1</td>\n",
       "      <td>0</td>\n",
       "    </tr>\n",
       "    <tr>\n",
       "      <th>4</th>\n",
       "      <td>1</td>\n",
       "      <td>1</td>\n",
       "      <td>0</td>\n",
       "    </tr>\n",
       "  </tbody>\n",
       "</table>\n",
       "</div>"
      ],
      "text/plain": [
       "   converted  is_treat_user  is_test_period\n",
       "0          0              1               0\n",
       "1          0              1               0\n",
       "2          0              1               0\n",
       "3          0              1               0\n",
       "4          1              1               0"
      ]
     },
     "execution_count": 36,
     "metadata": {},
     "output_type": "execute_result"
    }
   ],
   "source": [
    "df[0:5]"
   ]
  },
  {
   "cell_type": "code",
   "execution_count": 40,
   "metadata": {},
   "outputs": [],
   "source": [
    "reg_exp = 'converted ~ is_treat_user + is_test_period + is_treat_user * is_test_period'\n",
    "y_train, X_train = dmatrices(reg_exp, df, return_type='dataframe')"
   ]
  },
  {
   "cell_type": "code",
   "execution_count": 41,
   "metadata": {},
   "outputs": [],
   "source": [
    "did_model = sm.OLS(endog=y_train, exog=X_train)"
   ]
  },
  {
   "cell_type": "code",
   "execution_count": 42,
   "metadata": {},
   "outputs": [],
   "source": [
    "did_model_results = did_model.fit()"
   ]
  },
  {
   "cell_type": "code",
   "execution_count": 43,
   "metadata": {},
   "outputs": [
    {
     "data": {
      "text/html": [
       "<table class=\"simpletable\">\n",
       "<caption>OLS Regression Results</caption>\n",
       "<tr>\n",
       "  <th>Dep. Variable:</th>        <td>converted</td>    <th>  R-squared:         </th> <td>   0.003</td>\n",
       "</tr>\n",
       "<tr>\n",
       "  <th>Model:</th>                   <td>OLS</td>       <th>  Adj. R-squared:    </th> <td>   0.000</td>\n",
       "</tr>\n",
       "<tr>\n",
       "  <th>Method:</th>             <td>Least Squares</td>  <th>  F-statistic:       </th> <td>   1.155</td>\n",
       "</tr>\n",
       "<tr>\n",
       "  <th>Date:</th>             <td>Mon, 04 Sep 2023</td> <th>  Prob (F-statistic):</th>  <td> 0.326</td> \n",
       "</tr>\n",
       "<tr>\n",
       "  <th>Time:</th>                 <td>20:20:40</td>     <th>  Log-Likelihood:    </th> <td> -371.99</td>\n",
       "</tr>\n",
       "<tr>\n",
       "  <th>No. Observations:</th>      <td>  1076</td>      <th>  AIC:               </th> <td>   752.0</td>\n",
       "</tr>\n",
       "<tr>\n",
       "  <th>Df Residuals:</th>          <td>  1072</td>      <th>  BIC:               </th> <td>   771.9</td>\n",
       "</tr>\n",
       "<tr>\n",
       "  <th>Df Model:</th>              <td>     3</td>      <th>                     </th>     <td> </td>   \n",
       "</tr>\n",
       "<tr>\n",
       "  <th>Covariance Type:</th>      <td>nonrobust</td>    <th>                     </th>     <td> </td>   \n",
       "</tr>\n",
       "</table>\n",
       "<table class=\"simpletable\">\n",
       "<tr>\n",
       "                <td></td>                  <th>coef</th>     <th>std err</th>      <th>t</th>      <th>P>|t|</th>  <th>[0.025</th>    <th>0.975]</th>  \n",
       "</tr>\n",
       "<tr>\n",
       "  <th>Intercept</th>                    <td>    0.1239</td> <td>    0.022</td> <td>    5.534</td> <td> 0.000</td> <td>    0.080</td> <td>    0.168</td>\n",
       "</tr>\n",
       "<tr>\n",
       "  <th>is_treat_user</th>                <td>   -0.0148</td> <td>    0.032</td> <td>   -0.464</td> <td> 0.643</td> <td>   -0.077</td> <td>    0.048</td>\n",
       "</tr>\n",
       "<tr>\n",
       "  <th>is_test_period</th>               <td>    0.0150</td> <td>    0.029</td> <td>    0.509</td> <td> 0.611</td> <td>   -0.043</td> <td>    0.073</td>\n",
       "</tr>\n",
       "<tr>\n",
       "  <th>is_treat_user:is_test_period</th> <td>    0.0385</td> <td>    0.042</td> <td>    0.912</td> <td> 0.362</td> <td>   -0.044</td> <td>    0.121</td>\n",
       "</tr>\n",
       "</table>\n",
       "<table class=\"simpletable\">\n",
       "<tr>\n",
       "  <th>Omnibus:</th>       <td>413.646</td> <th>  Durbin-Watson:     </th> <td>   2.067</td> \n",
       "</tr>\n",
       "<tr>\n",
       "  <th>Prob(Omnibus):</th> <td> 0.000</td>  <th>  Jarque-Bera (JB):  </th> <td>1086.584</td> \n",
       "</tr>\n",
       "<tr>\n",
       "  <th>Skew:</th>          <td> 2.117</td>  <th>  Prob(JB):          </th> <td>1.13e-236</td>\n",
       "</tr>\n",
       "<tr>\n",
       "  <th>Kurtosis:</th>      <td> 5.511</td>  <th>  Cond. No.          </th> <td>    7.26</td> \n",
       "</tr>\n",
       "</table><br/><br/>Notes:<br/>[1] Standard Errors assume that the covariance matrix of the errors is correctly specified."
      ],
      "text/plain": [
       "<class 'statsmodels.iolib.summary.Summary'>\n",
       "\"\"\"\n",
       "                            OLS Regression Results                            \n",
       "==============================================================================\n",
       "Dep. Variable:              converted   R-squared:                       0.003\n",
       "Model:                            OLS   Adj. R-squared:                  0.000\n",
       "Method:                 Least Squares   F-statistic:                     1.155\n",
       "Date:                Mon, 04 Sep 2023   Prob (F-statistic):              0.326\n",
       "Time:                        20:20:40   Log-Likelihood:                -371.99\n",
       "No. Observations:                1076   AIC:                             752.0\n",
       "Df Residuals:                    1072   BIC:                             771.9\n",
       "Df Model:                           3                                         \n",
       "Covariance Type:            nonrobust                                         \n",
       "================================================================================================\n",
       "                                   coef    std err          t      P>|t|      [0.025      0.975]\n",
       "------------------------------------------------------------------------------------------------\n",
       "Intercept                        0.1239      0.022      5.534      0.000       0.080       0.168\n",
       "is_treat_user                   -0.0148      0.032     -0.464      0.643      -0.077       0.048\n",
       "is_test_period                   0.0150      0.029      0.509      0.611      -0.043       0.073\n",
       "is_treat_user:is_test_period     0.0385      0.042      0.912      0.362      -0.044       0.121\n",
       "==============================================================================\n",
       "Omnibus:                      413.646   Durbin-Watson:                   2.067\n",
       "Prob(Omnibus):                  0.000   Jarque-Bera (JB):             1086.584\n",
       "Skew:                           2.117   Prob(JB):                    1.13e-236\n",
       "Kurtosis:                       5.511   Cond. No.                         7.26\n",
       "==============================================================================\n",
       "\n",
       "Notes:\n",
       "[1] Standard Errors assume that the covariance matrix of the errors is correctly specified.\n",
       "\"\"\""
      ]
     },
     "execution_count": 43,
     "metadata": {},
     "output_type": "execute_result"
    }
   ],
   "source": [
    "did_model_results.summary()"
   ]
  },
  {
   "cell_type": "code",
   "execution_count": null,
   "metadata": {},
   "outputs": [],
   "source": []
  },
  {
   "cell_type": "markdown",
   "metadata": {},
   "source": [
    "# Conclusion\n",
    "\n",
    "## Bayesian Statistics vs. Linear Regression\n",
    "<a id=\"conclusion\"></a>\n",
    "\n",
    "The __Linear Regression__ method of teasing out the Diff-in-Diff is quite intuitive.  The coefficient of 0.0385 is very close to the means of Diff-in-Diff in the 2 trials using Bayesian method.  However, in the linear regression, I see the p-value (P>|t|) for the interaction term (is_treat_user:is_test_period) is at 0.362 which says there is a 36.2% chance that this term has no affect on the dependent variable.  In interpreting the \\[0.025 and 0.975\\] says the 95% of the value of this coefficient lies between -0.044 and 0.121.  It is important to note that the zero is within this range.  Last but not least, I should now verify that all the assumptions that are important for linear regression held otherwise the results from the linear regression may not be valid.  \n",
    "\n",
    "What are the assumptions for linear regressions?  The ususal suspects are:\n",
    "\n",
    "- Dependent variable has a linear relationship with the explantory variables\n",
    "- Homoscedasticity (same variance)\n",
    "- No auto-correlation (observations are independent from each other)\n",
    "- No or little muticollinearity (one variable is not a multiple of another)\n",
    "- Multivariate Normality (means of variable should be normally distributed)\n",
    "    - residuals from regression is normally distributed \n",
    "    \n",
    "Using __Bayesian methods__ of finding the Diff-in-Diff has no such assumptions needed for linear regression.  Looking at the distribution graphs above, I see that the treatment users in test period has an average 3.6-3.7% increased in conversion around 80% of the time.\n"
   ]
  }
 ],
 "metadata": {
  "celltoolbar": "Slideshow",
  "kernelspec": {
   "display_name": "bayes",
   "language": "python",
   "name": "bayes"
  },
  "language_info": {
   "codemirror_mode": {
    "name": "ipython",
    "version": 3
   },
   "file_extension": ".py",
   "mimetype": "text/x-python",
   "name": "python",
   "nbconvert_exporter": "python",
   "pygments_lexer": "ipython3",
   "version": "3.10.4"
  }
 },
 "nbformat": 4,
 "nbformat_minor": 4
}
